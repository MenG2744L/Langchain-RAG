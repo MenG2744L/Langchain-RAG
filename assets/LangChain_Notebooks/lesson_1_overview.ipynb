{
 "cells": [
  {
   "cell_type": "markdown",
   "metadata": {},
   "source": [
    "# Hello, AI World! 你的第一个LangChain程序\n"
   ]
  },
  {
   "cell_type": "markdown",
   "metadata": {},
   "source": [
    "##  编写一个取名程序\n",
    "在LLM应用的开发领域，LangChain为开发者带来了前所未有的可能性。通过编写一个取名程序，你将对LangChain框架有一个初步的了解。\n",
    "以下案例改编自AI开发新书《LangChain入门指南》第二章。"
   ]
  },
  {
   "cell_type": "markdown",
   "metadata": {},
   "source": [
    "### 环境安装配置\n",
    "\n",
    "首先，为了能够顺利进行开发工作，需要确保机器上安装了相应的Python包。开发者可以通过以下命令轻松完成安装："
   ]
  },
  {
   "cell_type": "code",
   "execution_count": null,
   "metadata": {},
   "outputs": [],
   "source": [
    "%pip install --upgrade --quiet  openai langchain-openai langchain"
   ]
  },
  {
   "cell_type": "code",
   "execution_count": null,
   "metadata": {},
   "outputs": [],
   "source": [
    "import os\n",
    "API_SECRET_KEY = \"填写【个人资料】中获取的最新token\"\n",
    "BASE_URL = \"https://www.ai360labs.com/openai/v1/\"\n",
    "\n",
    "os.environ[\"OPENAI_API_KEY\"] = API_SECRET_KEY\n",
    "os.environ[\"OPENAI_BASE_URL\"] = BASE_URL"
   ]
  },
  {
   "cell_type": "markdown",
   "metadata": {},
   "source": [
    "### 制作取名程序\n",
    "\n",
    "有了这些基础设置，接下来就可以利用LLM进行实际的编程工作了。\n",
    "\n",
    "想象一下，有一个程序可以基于用户的描述来为新生儿提供创意的命名建议。\n",
    "\n",
    "比如，当问及“龙年出生的女宝宝，希望名字的寓意美好”："
   ]
  },
  {
   "cell_type": "markdown",
   "metadata": {},
   "source": [
    "导入OpenAI模块，我们使用聊天模型ChatOpenAI."
   ]
  },
  {
   "cell_type": "code",
   "execution_count": null,
   "metadata": {},
   "outputs": [],
   "source": [
    "from langchain_openai import ChatOpenAI\n",
    "\n",
    "llm = ChatOpenAI()"
   ]
  },
  {
   "cell_type": "code",
   "execution_count": null,
   "metadata": {},
   "outputs": [],
   "source": [
    "from langchain_openai import ChatOpenAI\n",
    "\n",
    "llm.predict(\"龙年出生的女宝宝，希望名字的寓意美好，请你取个好听的名字，我姓吴\")"
   ]
  },
  {
   "cell_type": "markdown",
   "metadata": {},
   "source": [
    "返回：龙年出生的女宝宝取名吴婉儿（音为wǔ wǎn ér），寓意为吴家的女儿温柔美丽。\n",
    "\n",
    "**注意** LLM输出的回复并不是确定，温度设置越高，创意性越强。"
   ]
  },
  {
   "cell_type": "markdown",
   "metadata": {},
   "source": [
    "查看llm类包含的内容："
   ]
  },
  {
   "cell_type": "code",
   "execution_count": null,
   "metadata": {},
   "outputs": [],
   "source": [
    "llm"
   ]
  },
  {
   "cell_type": "markdown",
   "metadata": {},
   "source": [
    "### 换一换\n",
    "你描述感兴趣的话题或者任务，再次运行一次。"
   ]
  },
  {
   "cell_type": "code",
   "execution_count": null,
   "metadata": {},
   "outputs": [],
   "source": [
    "llm.predict(\"话题填入这里，双引号不能丢\")"
   ]
  }
 ],
 "metadata": {
  "kernelspec": {
   "display_name": "Python 3 (ipykernel)",
   "language": "python",
   "name": "python3"
  },
  "language_info": {
   "codemirror_mode": {
    "name": "ipython",
    "version": 3
   },
   "file_extension": ".py",
   "mimetype": "text/x-python",
   "name": "python",
   "nbconvert_exporter": "python",
   "pygments_lexer": "ipython3",
   "version": "3.11.7"
  }
 },
 "nbformat": 4,
 "nbformat_minor": 4
}

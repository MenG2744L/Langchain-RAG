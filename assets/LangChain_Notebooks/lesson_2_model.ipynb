{
 "cells": [
  {
   "cell_type": "markdown",
   "id": "4b82a8cc",
   "metadata": {},
   "source": [
    "# 第二节 理解模型IO (模型、提示、输出)"
   ]
  },
  {
   "cell_type": "markdown",
   "id": "b52998ce",
   "metadata": {},
   "source": [
    "### 环境安装配置\n",
    "\n",
    "将导入OS，导入OpenAI、langchain-openai，并加载OpenAI秘钥。"
   ]
  },
  {
   "cell_type": "code",
   "execution_count": null,
   "id": "402d80d3",
   "metadata": {},
   "outputs": [],
   "source": [
    "%pip install --upgrade --quiet openai langchain-openai langchain"
   ]
  },
  {
   "cell_type": "code",
   "execution_count": null,
   "id": "acec7d78",
   "metadata": {},
   "outputs": [],
   "source": [
    "import os\n",
    "API_SECRET_KEY = \"填写【个人资料】中获取的最新token\"\n",
    "BASE_URL = \"https://www.ai360labs.com/openai/v1/\"\n",
    "\n",
    "os.environ[\"OPENAI_API_KEY\"] = API_SECRET_KEY\n",
    "os.environ[\"OPENAI_BASE_URL\"] = BASE_URL"
   ]
  },
  {
   "cell_type": "code",
   "execution_count": null,
   "id": "31d65874",
   "metadata": {},
   "outputs": [],
   "source": [
    "import openai\n",
    "from langchain_openai import ChatOpenAI,OpenAI"
   ]
  },
  {
   "cell_type": "markdown",
   "id": "9e862117",
   "metadata": {},
   "source": [
    "#### OpenAI原生调用\n",
    "\n",
    "OpenAI原生的chat API 被视为行业的标准调用方式。其他模型厂商的API接口都跟OpenAI的调用方式雷同。学习了OpenAI的方式，等同于学习了整个行业的标准。\n"
   ]
  },
  {
   "cell_type": "markdown",
   "id": "e8cc5089",
   "metadata": {},
   "source": [
    "定义一个辅助函数 `get_completion`，你可以使用`get completion`来询问1加1等于什么，这将调用ChatGPT，或技术上说是模型GPT 3.5 Turbo，来给你回答。"
   ]
  },
  {
   "cell_type": "code",
   "execution_count": null,
   "id": "707a05a8",
   "metadata": {},
   "outputs": [],
   "source": [
    "def get_completion(prompt, model=\"gpt-3.5-turbo\"):\n",
    "    messages = [{\"role\": \"user\", \"content\": prompt}]\n",
    "    response = openai.chat.completions.create(model=model,messages=messages)\n",
    "    return response.choices[0].message.content"
   ]
  },
  {
   "cell_type": "markdown",
   "id": "bfc6074d",
   "metadata": {},
   "source": [
    "输入你的问题。"
   ]
  },
  {
   "cell_type": "code",
   "execution_count": null,
   "id": "3b3e48dd",
   "metadata": {},
   "outputs": [],
   "source": [
    "print(get_completion(\"中国的首都是哪里?\"))"
   ]
  },
  {
   "cell_type": "markdown",
   "id": "aad3d01c",
   "metadata": {},
   "source": [
    "北京"
   ]
  },
  {
   "cell_type": "markdown",
   "id": "81888eba",
   "metadata": {},
   "source": [
    "为了激发对LangChain模型、提示和解析器抽象的兴趣，假设你需要一个翻译助理，帮你翻译客户发来的邮件。"
   ]
  },
  {
   "cell_type": "markdown",
   "id": "1bbb7e65",
   "metadata": {},
   "source": [
    "提示词可以使用模板字符串，包含变量，比如要设置不同的说话口吻，选择不同的邮件内容，就将口吻和邮件内容设置为一个变量。最后的prompt使用f-string拼接一体。例如在线代码的`{style}`和`{customer_email}`。"
   ]
  },
  {
   "cell_type": "code",
   "execution_count": null,
   "id": "e31a9c46",
   "metadata": {},
   "outputs": [],
   "source": [
    "customer_email = \"\"\"\n",
    "Arrr, I be fuming that me blender lid \\\n",
    "flew off and splattered me kitchen walls \\\n",
    "with smoothie! And to make matters worse,\\\n",
    "the warranty don't cover the cost of \\\n",
    "cleaning up me kitchen. I need yer help \\\n",
    "right now, matey!\n",
    "\"\"\""
   ]
  },
  {
   "cell_type": "markdown",
   "id": "97472683",
   "metadata": {},
   "source": [
    "为了解决这个问题，我们将要求这个LLM将邮件翻译中文，并保持冷静和尊重的语气。"
   ]
  },
  {
   "cell_type": "code",
   "execution_count": null,
   "id": "b88783a2",
   "metadata": {},
   "outputs": [],
   "source": [
    "style = \"保持冷静和尊重的语气\""
   ]
  },
  {
   "cell_type": "markdown",
   "id": "c0c770d9",
   "metadata": {},
   "source": [
    "请你尝试尝试修改提示，看看你是否能得到不同的输出。修改风格或者邮件内容，指导大型语言模型完成翻译任务。"
   ]
  },
  {
   "cell_type": "code",
   "execution_count": null,
   "id": "36553451",
   "metadata": {},
   "outputs": [],
   "source": [
    "prompt = f\"\"\"我不懂英语，现在请你为我翻译客户的邮件为中文。 \\\n",
    "翻译的风格是：{style}。\\\n",
    "需要翻译的内容是: ```{customer_email}```\n",
    "\"\"\"\n",
    "\n",
    "print(prompt)"
   ]
  },
  {
   "cell_type": "code",
   "execution_count": null,
   "id": "16d5af8a",
   "metadata": {},
   "outputs": [],
   "source": [
    "response = get_completion(prompt)"
   ]
  },
  {
   "cell_type": "code",
   "execution_count": null,
   "id": "1518fa57",
   "metadata": {},
   "outputs": [],
   "source": [
    "response"
   ]
  },
  {
   "cell_type": "markdown",
   "id": "ba487899",
   "metadata": {},
   "source": [
    "如果你有不同的客户以不同的语言写评论，不仅仅是英语，还有法语、德语、日语等，你可以想象需要生成一系列提示来生成这样的翻译。"
   ]
  },
  {
   "cell_type": "markdown",
   "id": "06c9ccdb",
   "metadata": {},
   "source": [
    "#### LangChain封装调用\n",
    "\n",
    "现在我们看看LangChain又是如何达成这个目标的。还记得创始人为什么发明LangChain吗？在LLM的编程实践中，AI开发者需要很多胶水代码。LangChain做了很多这样的抽象，简化AI开发者的编程。"
   ]
  },
  {
   "cell_type": "markdown",
   "id": "8720fb0e",
   "metadata": {},
   "source": [
    "LangChain的设计目标之一是简化AI开发者的工作流程，减少对不同模型厂商API的依赖和学习成本。\n",
    "\n",
    "使用LangChain后，我们无需封装每个模型厂商的API函数，也无需查看每个模型厂商的API格式。\n",
    "\n",
    "LangChain提供了一套统一的接口和抽象，使得开发者可以更方便地使用不同模型厂商的模型。\n",
    "\n",
    "通过LangChain，我们可以使用相同的方式调用不同模型厂商的API，无论是OpenAI、GPT-3.5 Turbo还是其他模型。\n",
    "\n",
    "这种统一的接口和抽象使得开发者可以更专注于业务逻辑的实现，而无需关注底层模型的具体实现细节。\n",
    "\n",
    "因此，LangChain大大简化了AI开发者的工作流程，提高了开发效率和代码可维护性。\n"
   ]
  },
  {
   "cell_type": "markdown",
   "id": "b3d9c2cf",
   "metadata": {},
   "source": [
    "LangChain v0.1.0 版本之后，调用的方式如下：\n",
    "\n",
    "**注意 langchain_openai 是下划线** ,本教程使用的是LangChain v0.1.0 版本。"
   ]
  },
  {
   "cell_type": "code",
   "execution_count": null,
   "id": "2609cc9a",
   "metadata": {},
   "outputs": [],
   "source": [
    "from langchain_openai import ChatOpenAI"
   ]
  },
  {
   "cell_type": "markdown",
   "id": "cb0a7d25",
   "metadata": {},
   "source": [
    "当构建应用程序时，通常是将温度参数设置为0。默认温度是0.7。温度设置为0，使这个输出稳定一点，虽然会散失一些创造力。"
   ]
  },
  {
   "cell_type": "code",
   "execution_count": null,
   "id": "10768b74",
   "metadata": {},
   "outputs": [],
   "source": [
    "\n",
    "chat = ChatOpenAI(temperature=0.0)\n",
    "result = chat.predict(\"中国的首都是哪里?\")\n",
    "result\n"
   ]
  },
  {
   "cell_type": "markdown",
   "id": "4473d950",
   "metadata": {},
   "source": [
    "返回：'中国的首都是北京。'"
   ]
  },
  {
   "cell_type": "markdown",
   "id": "43605a73",
   "metadata": {},
   "source": [
    "## 提示词模板"
   ]
  },
  {
   "cell_type": "markdown",
   "id": "cb53b721",
   "metadata": {},
   "source": [
    "LangChain有专门的langchain.prompts模块，处理提示词的构建任务。现在以LangChain的方式构建一个提示词，用于对话式要LLM翻译客户邮件内容。"
   ]
  },
  {
   "cell_type": "markdown",
   "id": "49dce222",
   "metadata": {},
   "source": [
    "定义模板字符串如下："
   ]
  },
  {
   "cell_type": "code",
   "execution_count": null,
   "id": "303f8552",
   "metadata": {},
   "outputs": [],
   "source": [
    "template_string = \"\"\"Translate the text \\\n",
    "that is delimited by triple backticks \\\n",
    "into a style that is {style}. \\\n",
    "text: ```{text}```\n",
    "\"\"\""
   ]
  },
  {
   "cell_type": "markdown",
   "id": "7b12300a",
   "metadata": {},
   "source": [
    "首先导入ChatPromptTemplate，用于构建符合chat类型API的提示词模板。将f-string模板字符串设置为变量template_string，ChatPromptTemplate接受该参数，接着实例化为一个对象prompt_template。"
   ]
  },
  {
   "cell_type": "code",
   "execution_count": null,
   "id": "034fcf65",
   "metadata": {},
   "outputs": [],
   "source": [
    "from langchain.prompts import ChatPromptTemplate\n",
    "prompt_template = ChatPromptTemplate.from_template(template_string)"
   ]
  },
  {
   "cell_type": "markdown",
   "id": "637b4af7",
   "metadata": {},
   "source": [
    "我们查看这个对象所有的属性，更加直观感受LangChain封装的内容。\n",
    "\n",
    "这里我们思考一下，为什么LangChain要做提示词模板的封装。"
   ]
  },
  {
   "cell_type": "markdown",
   "id": "0a013281",
   "metadata": {},
   "source": [
    "事实上，如果我打印出来，它意识到它有两个输入变量，风格和文本。"
   ]
  },
  {
   "cell_type": "code",
   "execution_count": null,
   "id": "3d68adac",
   "metadata": {},
   "outputs": [],
   "source": [
    "prompt_template.messages[0].prompt"
   ]
  },
  {
   "cell_type": "markdown",
   "id": "ee319fcd",
   "metadata": {},
   "source": [
    "我们之前注入了`style`和`text`两个变量。通过这样的方式可以找到这两个占位符名称："
   ]
  },
  {
   "cell_type": "markdown",
   "id": "2fa28128",
   "metadata": {},
   "source": [
    "回答上面的思考题，经过LangChain的封装，我们不仅减少了格式转换问题，而且对提示词的内容可以进行动态管理（增删改查操作）。\n",
    "\n",
    "当你构建复杂的LLM应用时，提示词模板内部完全可能是变化的。\n",
    "\n",
    "比如你的程序需要做个性化，可用之前的模板，但要添加一点不一样的内容，此时提示词模板可以像数据一样可以管理，而不是重写。"
   ]
  },
  {
   "cell_type": "code",
   "execution_count": null,
   "id": "e9d5897f",
   "metadata": {},
   "outputs": [],
   "source": [
    "prompt_template.messages[0].prompt.input_variables"
   ]
  },
  {
   "cell_type": "markdown",
   "id": "ebf16076",
   "metadata": {},
   "source": [
    "占位符`style`设置为变量`customer_style`"
   ]
  },
  {
   "cell_type": "code",
   "execution_count": null,
   "id": "d71976ae",
   "metadata": {},
   "outputs": [],
   "source": [
    "customer_style = \"严谨\""
   ]
  },
  {
   "cell_type": "markdown",
   "id": "8492e34e",
   "metadata": {},
   "source": [
    "占位符`text`设置为变量`customer_email`"
   ]
  },
  {
   "cell_type": "code",
   "execution_count": null,
   "id": "1e77bad7",
   "metadata": {},
   "outputs": [],
   "source": [
    "customer_email = \"\"\"\n",
    "Arrr, I be fuming that me blender lid \\\n",
    "flew off and splattered me kitchen walls \\\n",
    "with smoothie! And to make matters worse, \\\n",
    "the warranty don't cover the cost of \\\n",
    "cleaning up me kitchen. I need yer help \\\n",
    "right now, matey!\n",
    "\"\"\""
   ]
  },
  {
   "cell_type": "markdown",
   "id": "615768e1",
   "metadata": {},
   "source": [
    "创建客户消息，这将生成提示，并将此大型语言模型传递给稍后以获得回应。客户消息实际上是一个列表。"
   ]
  },
  {
   "cell_type": "markdown",
   "id": "600ebfe3",
   "metadata": {},
   "source": [
    "调用format_messages方法，将提示词模板字符串转换为chat类型所要求的消息列表格式。消息列表格式包含了不同角色，在原生OpenAI的调用中，我们指定了OpenAI system,user,assistant 角色。\n",
    "如果不转换为消息列表格式是无法调用LLM chat类型的接口。\n",
    "```\n",
    "# 原生OpenAI的调用方法\n",
    "def get_completion(prompt, model=\"gpt-3.5-turbo\"):\n",
    "    messages = [{\"role\": \"user\", \"content\": prompt}] #这里还可以新增其他角色\n",
    "    response = openai.ChatCompletion.create(\n",
    "        model=model,\n",
    "        messages=messages,\n",
    "        temperature=0, \n",
    "    )\n",
    "    return response.choices[0].message[\"content\"]\n",
    "```    \n",
    "\n",
    "本质上来说是LangChain 的胶水代码将这些转换工作承包完了，开发者可以不用做这类型的转换工作。"
   ]
  },
  {
   "cell_type": "code",
   "execution_count": null,
   "id": "2031255a",
   "metadata": {},
   "outputs": [],
   "source": [
    "customer_messages = prompt_template.format_messages(\n",
    "                    style=customer_style,\n",
    "                    text=customer_email)"
   ]
  },
  {
   "cell_type": "markdown",
   "id": "5ff4f235",
   "metadata": {},
   "source": [
    "customer_messages 是一个列表，我们现在查看这个消息是不是一个列表。"
   ]
  },
  {
   "cell_type": "code",
   "execution_count": null,
   "id": "b53982ca",
   "metadata": {},
   "outputs": [],
   "source": [
    "print(type(customer_messages))"
   ]
  },
  {
   "cell_type": "markdown",
   "id": "d4d10f5f",
   "metadata": {},
   "source": [
    "看看列表的第一个元素，就是你期望它创建的提示。"
   ]
  },
  {
   "cell_type": "code",
   "execution_count": null,
   "id": "d5f1c82c",
   "metadata": {},
   "outputs": [],
   "source": [
    "print(type(customer_messages[0]))"
   ]
  },
  {
   "cell_type": "markdown",
   "id": "51589c9f",
   "metadata": {},
   "source": [
    "最后，让我们将这个提示传递给LLM，调用chat，作为对OpenAI chatGPT端点的引用。"
   ]
  },
  {
   "cell_type": "code",
   "execution_count": null,
   "id": "b494db21",
   "metadata": {},
   "outputs": [],
   "source": [
    "# Call the LLM to translate to the style of the customer message\n",
    "# Reference: chat = ChatOpenAI(temperature=0.0)\n",
    "chat = ChatOpenAI(temperature=0.0)\n",
    "customer_response = chat(customer_messages)"
   ]
  },
  {
   "cell_type": "markdown",
   "id": "728df0e4",
   "metadata": {},
   "source": [
    "如果我们打印出客户响应的内容，那么它就会把这个文本从英语海盗翻译成严谨的中文。"
   ]
  },
  {
   "cell_type": "code",
   "execution_count": null,
   "id": "3f503d87",
   "metadata": {},
   "outputs": [],
   "source": [
    "print(customer_response.content)"
   ]
  },
  {
   "cell_type": "markdown",
   "id": "ebc57f6e",
   "metadata": {},
   "source": [
    "我们再试试翻译为“甜妹”语气。"
   ]
  },
  {
   "cell_type": "code",
   "execution_count": null,
   "id": "b01033b4",
   "metadata": {},
   "outputs": [],
   "source": [
    "service_style = \"\"\"\\\n",
    "温柔的甜美女生风格 \\\n",
    "\"\"\""
   ]
  },
  {
   "cell_type": "markdown",
   "id": "2d2902e2",
   "metadata": {},
   "source": [
    "将提示词模板字符串转换为消息列表格式。"
   ]
  },
  {
   "cell_type": "markdown",
   "id": "0bfd7eae",
   "metadata": {},
   "source": [
    "重新使用该提示模板，并指定我们希望的输出风格是温柔的甜美女生风格，文本是英文邮件。"
   ]
  },
  {
   "cell_type": "code",
   "execution_count": null,
   "id": "fffe37fc",
   "metadata": {},
   "outputs": [],
   "source": [
    "service_messages = prompt_template.format_messages(\n",
    "    style=service_style,\n",
    "    text=customer_email)\n",
    "\n",
    "print(service_messages[0].content)"
   ]
  },
  {
   "cell_type": "markdown",
   "id": "f50dbc35",
   "metadata": {},
   "source": [
    "对比两种语气翻译结果的区别。"
   ]
  },
  {
   "cell_type": "code",
   "execution_count": null,
   "id": "f7a6289e",
   "metadata": {},
   "outputs": [],
   "source": [
    "service_response = chat(service_messages)\n",
    "print(service_response.content)"
   ]
  },
  {
   "cell_type": "markdown",
   "id": "97fe60e9",
   "metadata": {},
   "source": [
    "这段代码展示了提示词模板的作用，它可以帮助我们自由组织和重新构造提示词。\n",
    "\n",
    "在大语言模型开发中，提示词的构造是一个重要的特性。好的提示词不仅可以产生好的输出，还可以提高工程化水平。\n",
    "\n",
    "通过使用提示词模板，我们可以更好地利用大语言模型的能力，提供更准确、多样化的提示词。\n"
   ]
  },
  {
   "cell_type": "markdown",
   "id": "f6439706",
   "metadata": {},
   "source": [
    "## 解析器\n",
    "\n",
    "解析器的重要性在于将这些非结构化的文本转换为结构化的数据形式，以便进一步分析和利用。\n",
    "\n",
    "结构化数据更容易被计算机程序处理，可以更方便地进行存储、检索和分析，从而提高了数据的可用性和应用价值。\n",
    "\n",
    "提示词模板用于指定LLM的输入，解析器来正确解释LLM给出的输出，这样共同构成了一种很好的抽象，完整控制了模型的输入、输出。\n",
    "\n"
   ]
  },
  {
   "cell_type": "markdown",
   "id": "d8e06f28",
   "metadata": {},
   "source": [
    "让我们看看使用LangChain的输出解析器的示例。示例将是从产品评论中提取信息，并以JSON格式格式化输出。\n",
    "\n",
    "假设我们现在想通过LLM程序，在对话中提取一个JSON字符串，解析这个JSON后获得数据中的关键信息。"
   ]
  },
  {
   "cell_type": "markdown",
   "id": "29e75bc6",
   "metadata": {},
   "source": [
    "任务是要求LLM将客户评论作为输入并提取这三个字段，然后将输出格式化为JSON，具有以三个键。"
   ]
  },
  {
   "cell_type": "code",
   "execution_count": null,
   "id": "59aa3c40",
   "metadata": {},
   "outputs": [],
   "source": [
    "{\n",
    "  \"gift\": False,\n",
    "  \"delivery_days\": 5,\n",
    "  \"price_value\": \"pretty affordable!\"\n",
    "}"
   ]
  },
  {
   "cell_type": "markdown",
   "id": "c4bd2260",
   "metadata": {},
   "source": [
    "\n",
    "\n",
    "使用一个电商的好评数据："
   ]
  },
  {
   "cell_type": "code",
   "execution_count": null,
   "id": "02fb0334",
   "metadata": {},
   "outputs": [],
   "source": [
    "customer_review = \"\"\"\\\n",
    "This leaf blower is pretty amazing.  It has four settings:\\\n",
    "candle blower, gentle breeze, windy city, and tornado. \\\n",
    "It arrived in two days, just in time for my wife's \\\n",
    "anniversary present. \\\n",
    "I think my wife liked it so much she was speechless. \\\n",
    "So far I've been the only one using it, and I've been \\\n",
    "using it every other morning to clear the leaves on our lawn. \\\n",
    "It's slightly more expensive than the other leaf blowers \\\n",
    "out there, but I think it's worth it for the extra features.\n",
    "\"\"\""
   ]
  },
  {
   "cell_type": "markdown",
   "id": "ac71c20c",
   "metadata": {},
   "source": [
    "构建一个好评提示模板，告知LLM 所需要的字段释义，要求LLM回答时，使用指定键值且以JSON格式回答问题。"
   ]
  },
  {
   "cell_type": "code",
   "execution_count": null,
   "id": "561da592",
   "metadata": {},
   "outputs": [],
   "source": [
    "review_template = \"\"\"\\\n",
    "For the following text, extract the following information:\n",
    "\n",
    "gift: Was the item purchased as a gift for someone else? \\\n",
    "Answer True if yes, False if not or unknown.\n",
    "\n",
    "delivery_days: How many days did it take for the product \\\n",
    "to arrive? If this information is not found, output -1.\n",
    "\n",
    "price_value: Extract any sentences about the value or price,\\\n",
    "and output them as a comma separated Python list.\n",
    "\n",
    "Format the output as JSON with the following keys:\n",
    "gift\n",
    "delivery_days\n",
    "price_value\n",
    "\n",
    "text: {text}\n",
    "\"\"\""
   ]
  },
  {
   "cell_type": "markdown",
   "id": "5d61e25e",
   "metadata": {},
   "source": [
    "导入LangChain的提示词模块 `langchain.prompts`。将此类提示包装在LangChain提示词模块中，使重用此类提示变得更容易。\n",
    "\n",
    "LangChain还为一些常见操作提供提示，例如摘要、问答、连接SQL数据库或连接不同的API。\n",
    "\n",
    "因此，通过使用LangChain的内置提示，你可以快速让应用程序运行，而无需自己设计提示。\n",
    "\n",
    "LangChain提示词模板的另一个作用是它还支持**输出解析**。"
   ]
  },
  {
   "cell_type": "code",
   "execution_count": null,
   "id": "752c2ef6",
   "metadata": {},
   "outputs": [],
   "source": [
    "from langchain.prompts import ChatPromptTemplate\n",
    "\n",
    "prompt_template = ChatPromptTemplate.from_template(review_template)\n",
    "print(prompt_template)"
   ]
  },
  {
   "cell_type": "markdown",
   "id": "43841cda",
   "metadata": {},
   "source": [
    "开始运行，运行代码跟之前一样，转换消息列表格式后，发起chat。"
   ]
  },
  {
   "cell_type": "markdown",
   "id": "26e3f3e1",
   "metadata": {},
   "source": [
    "\n",
    "创建消息列表的提示模板，传递给OpenAI端点，然后让我们打印出响应。"
   ]
  },
  {
   "cell_type": "code",
   "execution_count": null,
   "id": "2fd4e31d",
   "metadata": {},
   "outputs": [],
   "source": [
    "messages = prompt_template.format_messages(text=customer_review)\n",
    "chat = ChatOpenAI(temperature=0.0)\n",
    "response = chat(messages)"
   ]
  },
  {
   "cell_type": "markdown",
   "id": "4ce51583",
   "metadata": {},
   "source": [
    "打印结果,`print(type(response.content))`是个json字符串："
   ]
  },
  {
   "cell_type": "code",
   "execution_count": null,
   "id": "f8d3b552",
   "metadata": {},
   "outputs": [],
   "source": [
    "print(response.content)"
   ]
  },
  {
   "cell_type": "markdown",
   "id": "e7f8d2eb",
   "metadata": {},
   "source": [
    "尝试获取gift字段的内容。"
   ]
  },
  {
   "cell_type": "markdown",
   "id": "ba554eb0",
   "metadata": {},
   "source": [
    "运行代码后，你看到了一个类型错误。"
   ]
  },
  {
   "cell_type": "code",
   "execution_count": null,
   "id": "a5e7784c",
   "metadata": {},
   "outputs": [],
   "source": [
    "# You will get an error by running this line of code \n",
    "# because'gift' is not a dictionary\n",
    "# 'gift' is a string\n",
    "response.content.get('gift')"
   ]
  },
  {
   "cell_type": "markdown",
   "id": "487d841d",
   "metadata": {},
   "source": [
    "这实际上是一个字符串，不是一个Python字典。所以无法直接获取到gift字段的值。"
   ]
  },
  {
   "cell_type": "code",
   "execution_count": null,
   "id": "ffb84ce6",
   "metadata": {},
   "outputs": [],
   "source": [
    "print(type(response.content))"
   ]
  },
  {
   "cell_type": "markdown",
   "id": "eb2b9ae7",
   "metadata": {},
   "source": [
    "\n",
    "所以，让我们看看如何使用LangChain的解析器来解决这个错误。"
   ]
  },
  {
   "cell_type": "markdown",
   "id": "e057b5d8",
   "metadata": {},
   "source": [
    "### LangChain解析器应用示例\n",
    "\n",
    "现在我们开始跟上面提示词指导模型输出不一样的旅程，使用LangChain解析器用于从产品评论中提取产品特征或用户反馈。\n",
    "\n",
    "解析器可以从评论文本中提取产品特性、用户体验评价或情感倾向等信息，并将其转换为结构化的数据形式，以便进行分析和报告。"
   ]
  },
  {
   "cell_type": "markdown",
   "id": "3782a0da",
   "metadata": {},
   "source": [
    "首先，从LangChain中导入响应模式 ResponseSchema 和结构化输出解析器 StructuredOutputParser。"
   ]
  },
  {
   "cell_type": "code",
   "execution_count": null,
   "id": "4f44204b",
   "metadata": {},
   "outputs": [],
   "source": [
    "from langchain.output_parsers import ResponseSchema\n",
    "from langchain.output_parsers import StructuredOutputParser"
   ]
  },
  {
   "cell_type": "markdown",
   "id": "a5c172a2",
   "metadata": {},
   "source": [
    "指定所需要提取的字段名称和描述。"
   ]
  },
  {
   "cell_type": "markdown",
   "id": "1ff97def",
   "metadata": {},
   "source": [
    "告诉它通过指定这些响应模式来解析。所以礼物模式名为礼物，有礼物的描述。购买的商品是否为他人礼物？回答真或是，假如果不是或未知，等等。"
   ]
  },
  {
   "cell_type": "markdown",
   "id": "2829d925",
   "metadata": {},
   "source": [
    "还有一个礼物模式，送货日期模式。"
   ]
  },
  {
   "cell_type": "code",
   "execution_count": null,
   "id": "8959253b",
   "metadata": {},
   "outputs": [],
   "source": [
    "gift_schema = ResponseSchema(name=\"gift\",\n",
    "                             description=\"Was the item purchased\\\n",
    "                             as a gift for someone else? \\\n",
    "                             Answer True if yes,\\\n",
    "                             False if not or unknown.\")\n",
    "delivery_days_schema = ResponseSchema(name=\"delivery_days\",\n",
    "                                      description=\"How many days\\\n",
    "                                      did it take for the product\\\n",
    "                                      to arrive? If this \\\n",
    "                                      information is not found,\\\n",
    "                                      output -1.\")\n",
    "price_value_schema = ResponseSchema(name=\"price_value\",\n",
    "                                    description=\"Extract any\\\n",
    "                                    sentences about the value or \\\n",
    "                                    price, and output them as a \\\n",
    "                                    comma separated Python list.\")\n",
    "\n",
    "response_schemas = [gift_schema, \n",
    "                    delivery_days_schema,\n",
    "                    price_value_schema]"
   ]
  },
  {
   "cell_type": "markdown",
   "id": "07231200",
   "metadata": {},
   "source": [
    "## 使用LangChain的输出解析器。"
   ]
  },
  {
   "cell_type": "markdown",
   "id": "fbc270aa",
   "metadata": {},
   "source": [
    "目前为止，我们已经为这些指定了模式。\n",
    "\n",
    "实际上，LangChain已经给了LLM如何输出的提示词，你希望发送给LLM的指令已经包含在LangChain内置的提示模板了。"
   ]
  },
  {
   "cell_type": "markdown",
   "id": "3a180244",
   "metadata": {},
   "source": [
    "我们按照以下步骤运用一个输出解析器。\n",
    "\n",
    "- 定义响应模式，创建一个StructuredOutputParser类的实例\n",
    "\n",
    "- 定义消息列表\n",
    "\n",
    "- 调用LLM获取响应\n",
    "\n",
    "- 解析响应\n",
    "\n",
    "- 构建JSON格式输出\n",
    "\n",
    "- 打印输出结果\n",
    "\n"
   ]
  },
  {
   "cell_type": "markdown",
   "id": "5b62b420",
   "metadata": {},
   "source": [
    "使用from_response_schemas方法，创建一个StructuredOutputParser类的实例。\n",
    "- 这个方法接受response_schemas参数，它是一个包含多个schema的列表。\n",
    "- output_parser变量被赋值为创建的StructuredOutputParser类的实例。\n",
    "\n"
   ]
  },
  {
   "cell_type": "code",
   "execution_count": null,
   "id": "5f08884e",
   "metadata": {},
   "outputs": [],
   "source": [
    "output_parser = StructuredOutputParser.from_response_schemas(response_schemas)"
   ]
  },
  {
   "cell_type": "markdown",
   "id": "2603456f",
   "metadata": {},
   "source": [
    "打印输出解析器的内容。最后面我们可以看到LangChain 封装的提示词。\n",
    "\n",
    "```output them as a comma separated Python list.```"
   ]
  },
  {
   "cell_type": "code",
   "execution_count": null,
   "id": "538b9f84",
   "metadata": {},
   "outputs": [],
   "source": [
    "print(output_parser)"
   ]
  },
  {
   "cell_type": "markdown",
   "id": "1ee95d42",
   "metadata": {},
   "source": [
    "我们还可以查看，最终给LLM发送的指导词。LangChain有一套相当精确的指令供LLM使用，这将使其生成输出解析器可以处理的输出。"
   ]
  },
  {
   "cell_type": "markdown",
   "id": "790cc99e",
   "metadata": {},
   "source": [
    "将三个字段名的数据模式注入到输出解析器后，我们便可以使用输出解析器管理提示词。\n",
    "\n",
    "首先调用输出解析器的get_format_instructions方法，生产出`{format_instructions}`字符串，它包含了:\n",
    "\n",
    "- 三个字段数据模式。 \n",
    " ```json\n",
    "{\n",
    "\t\"gift\": string  // Was the item purchased                             as a gift for someone else?                              Answer True if yes,                             False if not or unknown.\n",
    "\t\"delivery_days\": string  // How many days                                      did it take for the product                                      to arrive? If this                                       information is not found,                                      output -1.\n",
    "\t\"price_value\": string  // Extract any                                    sentences about the value or                                     price, and output them as a                                     comma separated Python list.\n",
    "}\n",
    "```\n",
    "\n",
    "- 要求LLM输出的结果为json格式的指令。\n",
    "\n",
    " (The output should be a markdown code snippet formatted in the following schema, including the leading and trailing )"
   ]
  },
  {
   "cell_type": "code",
   "execution_count": null,
   "id": "6ff98702",
   "metadata": {},
   "outputs": [],
   "source": [
    "format_instructions = output_parser.get_format_instructions()"
   ]
  },
  {
   "cell_type": "code",
   "execution_count": null,
   "id": "ceb0b416",
   "metadata": {},
   "outputs": [],
   "source": [
    "print(format_instructions)"
   ]
  },
  {
   "cell_type": "markdown",
   "id": "1093ee0e",
   "metadata": {},
   "source": []
  },
  {
   "cell_type": "markdown",
   "id": "606ecafa",
   "metadata": {},
   "source": [
    "接着，我们删除了在原始提示词 review_template 内要求LLM输出的结果为json格式的指令，提示词底部添加刚刚生产的{format_instructions}，保存为 review_template_2。"
   ]
  },
  {
   "cell_type": "code",
   "execution_count": null,
   "id": "ecb4b006",
   "metadata": {},
   "outputs": [],
   "source": [
    "# 差别在删除了LLM输出为指定键值的JSON格式的指示词。\n",
    "review_template_2 = \"\"\"\\\n",
    "For the following text, extract the following information:\n",
    "\n",
    "gift: Was the item purchased as a gift for someone else? \\\n",
    "Answer True if yes, False if not or unknown.\n",
    "\n",
    "delivery_days: How many days did it take for the product\\\n",
    "to arrive? If this information is not found, output -1.\n",
    "\n",
    "price_value: Extract any sentences about the value or price,\\\n",
    "and output them as a comma separated Python list.\n",
    "\n",
    "text: {text}\n",
    "\n",
    "{format_instructions}\n",
    "\"\"\"\n",
    "\n",
    "prompt = ChatPromptTemplate.from_template(template=review_template_2)\n",
    "\n",
    "messages = prompt.format_messages(text=customer_review, \n",
    "                                format_instructions=format_instructions)"
   ]
  },
  {
   "cell_type": "markdown",
   "id": "9e2887e3",
   "metadata": {},
   "source": [
    "查看完整的提示词。"
   ]
  },
  {
   "cell_type": "code",
   "execution_count": null,
   "id": "77123bd1",
   "metadata": {},
   "outputs": [],
   "source": [
    "print(messages[0].content)"
   ]
  },
  {
   "cell_type": "markdown",
   "id": "4a88fd9c",
   "metadata": {},
   "source": [
    "查看最终的结果。"
   ]
  },
  {
   "cell_type": "code",
   "execution_count": null,
   "id": "790ec088",
   "metadata": {},
   "outputs": [],
   "source": [
    "response = chat(messages)"
   ]
  },
  {
   "cell_type": "code",
   "execution_count": null,
   "id": "5b6687b6",
   "metadata": {},
   "outputs": [],
   "source": [
    "print(response.content)"
   ]
  },
  {
   "cell_type": "markdown",
   "id": "b78823b2",
   "metadata": {},
   "source": [
    "运用parse方法，将你的LLM输出解析为Python字典，使输出更容易在下游处理中使用。"
   ]
  },
  {
   "cell_type": "code",
   "execution_count": null,
   "id": "91ad9d28",
   "metadata": {},
   "outputs": [],
   "source": [
    "output_dict = output_parser.parse(response.content)"
   ]
  },
  {
   "cell_type": "code",
   "execution_count": null,
   "id": "582d2493",
   "metadata": {},
   "outputs": [],
   "source": [
    "output_dict"
   ]
  },
  {
   "cell_type": "markdown",
   "id": "71e89f52",
   "metadata": {},
   "source": [
    "打印后，确认是dict类型。"
   ]
  },
  {
   "cell_type": "code",
   "execution_count": null,
   "id": "5f711b93",
   "metadata": {},
   "outputs": [],
   "source": [
    "type(output_dict)"
   ]
  },
  {
   "cell_type": "markdown",
   "id": "3e202f0b",
   "metadata": {},
   "source": [
    "至此我们将报错的代码修复好了，再次尝试使用get方法获取gift的值。"
   ]
  },
  {
   "cell_type": "code",
   "execution_count": null,
   "id": "aeb5b03b",
   "metadata": {},
   "outputs": [],
   "source": [
    "output_dict.get('gift')"
   ]
  }
 ],
 "metadata": {
  "kernelspec": {
   "display_name": "Python 3 (ipykernel)",
   "language": "python",
   "name": "python3"
  },
  "language_info": {
   "codemirror_mode": {
    "name": "ipython",
    "version": 3
   },
   "file_extension": ".py",
   "mimetype": "text/x-python",
   "name": "python",
   "nbconvert_exporter": "python",
   "pygments_lexer": "ipython3",
   "version": "3.11.7"
  }
 },
 "nbformat": 4,
 "nbformat_minor": 5
}

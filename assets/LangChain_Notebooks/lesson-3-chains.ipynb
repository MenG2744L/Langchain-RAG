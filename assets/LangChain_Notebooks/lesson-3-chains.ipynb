{
 "cells": [
  {
   "cell_type": "markdown",
   "id": "34767ee0",
   "metadata": {},
   "source": []
  },
  {
   "cell_type": "markdown",
   "id": "b63553b6",
   "metadata": {},
   "source": [
    "# 第三节 实践Chain的应用\n",
    "\n",
    "### 课程笔记大纲\n",
    "\n",
    "1. LLM链\n",
    "2. 顺序链\n",
    "3. 路由器链\n",
    "4. 组合应用"
   ]
  },
  {
   "cell_type": "markdown",
   "id": "6f6fc34a",
   "metadata": {},
   "source": [
    "### 环境安装配置"
   ]
  },
  {
   "cell_type": "code",
   "execution_count": null,
   "id": "b48493b7",
   "metadata": {},
   "outputs": [],
   "source": [
    "%pip install --upgrade --quiet openai langchain-openai langchain"
   ]
  },
  {
   "cell_type": "code",
   "execution_count": null,
   "id": "4197cf4c",
   "metadata": {},
   "outputs": [],
   "source": [
    "import os\n",
    "API_SECRET_KEY = \"填写【个人资料】中获取的最新token\"\n",
    "BASE_URL = \"https://www.ai360labs.com/openai/v1/\"\n",
    "\n",
    "os.environ[\"OPENAI_API_KEY\"] = API_SECRET_KEY\n",
    "os.environ[\"OPENAI_BASE_URL\"] = BASE_URL"
   ]
  },
  {
   "cell_type": "code",
   "execution_count": null,
   "id": "662a7b2e",
   "metadata": {},
   "outputs": [],
   "source": [
    "\n",
    "import openai\n",
    "from langchain_openai import ChatOpenAI,OpenAI"
   ]
  },
  {
   "cell_type": "markdown",
   "id": "e95a4dc7",
   "metadata": {},
   "source": [
    "LangChain最重要的关键构建块，即链（chain）。链通常结合了一个大型语言模型（LLM）和一个提示（prompt），使用这个构建块，你可以将多个这样的构建块组合在一起，对你的文本或其他数据进行一系列操作。"
   ]
  },
  {
   "cell_type": "markdown",
   "id": "b7919165",
   "metadata": {},
   "source": [
    "## LLM链介绍 \n",
    "LLM链是一种基于大型语言模型（LLM）的链式结构，用于对文本或其他数据进行一系列操作。它的主要作用是通过结合LLM和提示，生成对输入数据进行处理的输出结果。"
   ]
  },
  {
   "cell_type": "markdown",
   "id": "34fa33e7",
   "metadata": {},
   "source": [
    "这是一个简单但非常强大的链，它是我们未来将要讨论的许多链的基础。因此，我们将导入三样不同的东西。我们将导入OpenAI模型，也就是LLM。我们将导入聊天提示模板。这是提示。然后我们将导入LLM链。"
   ]
  },
  {
   "cell_type": "code",
   "execution_count": null,
   "id": "8286d847",
   "metadata": {},
   "outputs": [],
   "source": [
    "from langchain.prompts import ChatPromptTemplate # prompt\n",
    "from langchain.chains import LLMChain # chain"
   ]
  },
  {
   "cell_type": "markdown",
   "id": "753f3972",
   "metadata": {},
   "source": [
    "首先，我们将要做的是初始化我们想要使用的语言模型。所以我们将初始化chat OpenAI，设置一个高温度，这样我们就能得到一些有趣的描述。"
   ]
  },
  {
   "cell_type": "code",
   "execution_count": null,
   "id": "29e738a4",
   "metadata": {},
   "outputs": [],
   "source": [
    "llm = ChatOpenAI(temperature=0.9)"
   ]
  },
  {
   "cell_type": "markdown",
   "id": "6e011b90",
   "metadata": {},
   "source": [
    "使用提示词模板类构建提问的提示词模板。{product}为占位符，接受外部输入，组合为完整的提示词。"
   ]
  },
  {
   "cell_type": "markdown",
   "id": "24a69581",
   "metadata": {},
   "source": [
    "现在我们将初始化一个提示。这个提示将接受一个名为“product”的变量，它将要求LLM生成描述制造该产品的公司最fashion的名称。"
   ]
  },
  {
   "cell_type": "code",
   "execution_count": null,
   "id": "a032aa20",
   "metadata": {},
   "outputs": [],
   "source": [
    "prompt = ChatPromptTemplate.from_template(\n",
    "    \"能否给公司的 {product} 产品取一个fashion的名字?\"\n",
    ")"
   ]
  },
  {
   "cell_type": "markdown",
   "id": "73051c12",
   "metadata": {},
   "source": [
    "实例化一个LLMChain，设置LLM和提示词模板。"
   ]
  },
  {
   "cell_type": "markdown",
   "id": "5ad951a9",
   "metadata": {},
   "source": [
    "我们将这两样东西组合成一个链。\n"
   ]
  },
  {
   "cell_type": "markdown",
   "id": "065189c6",
   "metadata": {},
   "source": [
    "LLM链，它非常简单，只是LLM和提示的结合。\n",
    "\n",
    "这个链将让我们以序列的方式通过提示，进入LLM。"
   ]
  },
  {
   "cell_type": "code",
   "execution_count": null,
   "id": "cdc0db5f",
   "metadata": {},
   "outputs": [],
   "source": [
    "chain = LLMChain(llm=llm, prompt=prompt)"
   ]
  },
  {
   "cell_type": "markdown",
   "id": "256befcd",
   "metadata": {},
   "source": [
    "运行LLMChain，提问LLM,\"能否给公司的人工智能穿戴产品取一个fashion的名字？\""
   ]
  },
  {
   "cell_type": "code",
   "execution_count": null,
   "id": "ce47e3e6",
   "metadata": {},
   "outputs": [],
   "source": [
    "product = \"人工智能穿戴\"\n",
    "chain.run(product)"
   ]
  },
  {
   "cell_type": "markdown",
   "id": "d8b6231f",
   "metadata": {},
   "source": [
    "你可以输入任何你想要的产品描述，并且你可以看到链作为结果输出了什么。"
   ]
  },
  {
   "cell_type": "code",
   "execution_count": null,
   "id": "74356d7d",
   "metadata": {},
   "outputs": [],
   "source": [
    "product = \"一款帅气的帽子\"\n",
    "chain.run(product)"
   ]
  },
  {
   "cell_type": "markdown",
   "id": "b49a5cf8",
   "metadata": {},
   "source": [
    "## 顺序链\n",
    "\n",
    "顺序链会一个接一个地运行一系列的链。\n",
    "\n",
    "顺序链是一种链式结构，用于按照顺序执行一系列的操作或处理步骤。它的主要作用是将多个处理步骤有序地连接起来，以完成复杂的文本或数据处理任务。顺序链通常用于需要按照特定顺序执行多个操作的场景。"
   ]
  },
  {
   "cell_type": "markdown",
   "id": "3370ce7b",
   "metadata": {},
   "source": [
    "环境安装配置后，导入 SimpleSequentialChain 类。"
   ]
  },
  {
   "cell_type": "code",
   "execution_count": null,
   "id": "0f7b1501",
   "metadata": {},
   "outputs": [],
   "source": [
    "from langchain.chains import SimpleSequentialChain"
   ]
  },
  {
   "cell_type": "markdown",
   "id": "f5fb6de2",
   "metadata": {},
   "source": [
    "需要初始化一个适用的语言模型，通常是一个大型的预训练语言模型，如OpenAI的模型。\n"
   ]
  },
  {
   "cell_type": "code",
   "execution_count": null,
   "id": "7fb51d30",
   "metadata": {},
   "outputs": [],
   "source": [
    "llm = ChatOpenAI(temperature=0.9)"
   ]
  },
  {
   "cell_type": "markdown",
   "id": "7c627d4a",
   "metadata": {},
   "source": [
    "### 简单顺序链（SimpleSequentialChain）"
   ]
  },
  {
   "cell_type": "markdown",
   "id": "9032bb0d",
   "metadata": {},
   "source": [
    "简单顺序链是一种处理单一输入和单一输出的链式结构。它按照固定的顺序执行一系列处理步骤，并将单一输入依次传递给每个步骤，最终生成单一输出结果。"
   ]
  },
  {
   "cell_type": "markdown",
   "id": "1112fbcc",
   "metadata": {},
   "source": [
    "现在假设老板给你一个任务，给公司产品取名字，然后为你们公司写一个简介。任务分为两个步骤，先要取名，后写描述。我们将这种任务顺序通过顺序链的方式表达清楚。\n",
    "\n",
    "顺序链更像是一种语言表达，先做什么后做什么。"
   ]
  },
  {
   "cell_type": "markdown",
   "id": "3dfbd114",
   "metadata": {},
   "source": [
    "首先定义第一个任务的提示词模板，这些提示显示第一个任务是为公司的产品取名字。"
   ]
  },
  {
   "cell_type": "code",
   "execution_count": null,
   "id": "4a9070e3",
   "metadata": {},
   "outputs": [],
   "source": [
    "\n",
    "\n",
    "# prompt template 1\n",
    "first_prompt = ChatPromptTemplate.from_template(\n",
    "    \"What is the best name to describe \\\n",
    "    a company that makes {product}?\"\n",
    ")"
   ]
  },
  {
   "cell_type": "markdown",
   "id": "95eed28c",
   "metadata": {},
   "source": [
    "将语言模型和提示结合形成链，实例化第一个LLMChain，设置LLM和提示词模板。"
   ]
  },
  {
   "cell_type": "markdown",
   "id": "3700e592",
   "metadata": {},
   "source": [
    "这个提示将接受产品，并返回描述该公司的最佳名称。这将是第一个链。"
   ]
  },
  {
   "cell_type": "code",
   "execution_count": null,
   "id": "ac055265",
   "metadata": {},
   "outputs": [],
   "source": [
    "# Chain 1\n",
    "chain_one = LLMChain(llm=llm, prompt=first_prompt)"
   ]
  },
  {
   "cell_type": "markdown",
   "id": "d97ffee2",
   "metadata": {},
   "source": [
    "创建第二个链。在这第二个链中，我们将接受公司名称，然后输出该公司的20字描述。"
   ]
  },
  {
   "cell_type": "code",
   "execution_count": null,
   "id": "1842b484",
   "metadata": {},
   "outputs": [],
   "source": [
    "\n",
    "# prompt template 2\n",
    "second_prompt = ChatPromptTemplate.from_template(\n",
    "    \"Write a 20 words description for the following \\\n",
    "    company:{company_name}\"\n",
    ")\n",
    "# chain 2\n",
    "chain_two = LLMChain(llm=llm, prompt=second_prompt)"
   ]
  },
  {
   "cell_type": "markdown",
   "id": "a55e23c3",
   "metadata": {},
   "source": [
    "运行顺序链，将前面2个LLMChain以数组的方式，设置为顺序链的chains属性。顺序链会按照固定的顺序执行一系列处理步骤，并将单一输入依次传递给每个步骤，最终生成单一输出结果。"
   ]
  },
  {
   "cell_type": "markdown",
   "id": "f350854f",
   "metadata": {},
   "source": [
    "想象这些链可能希望一个接一个地运行，其中第一个链的输出，公司名称，然后被传递到第二个链中。"
   ]
  },
  {
   "cell_type": "markdown",
   "id": "7a9599eb",
   "metadata": {},
   "source": [
    "我们可以通过创建一个简单的顺序链来轻松做到这一点，其中描述了这两个链。"
   ]
  },
  {
   "cell_type": "code",
   "execution_count": null,
   "id": "ac65946f",
   "metadata": {},
   "outputs": [],
   "source": [
    "overall_simple_chain = SimpleSequentialChain(chains=[chain_one, chain_two],\n",
    "                                             verbose=True\n",
    "                                            )"
   ]
  },
  {
   "cell_type": "markdown",
   "id": "89706b4d",
   "metadata": {},
   "source": [
    "现在，你可以做的是，用任何产品描述运行这个链。"
   ]
  },
  {
   "cell_type": "code",
   "execution_count": null,
   "id": "c8625c34",
   "metadata": {},
   "outputs": [],
   "source": [
    "product = \"一款帅气的帽子\""
   ]
  },
  {
   "cell_type": "markdown",
   "id": "e495c8c0",
   "metadata": {},
   "source": [
    "设置产品的名称传递给顺序链，run 一下看看结果是不是符合任务的要求。"
   ]
  },
  {
   "cell_type": "code",
   "execution_count": null,
   "id": "0704a86a",
   "metadata": {},
   "outputs": [],
   "source": [
    "overall_simple_chain.run(product)"
   ]
  },
  {
   "cell_type": "markdown",
   "id": "f8df5eed",
   "metadata": {},
   "source": [
    "chain运行后，先输出了一个公司名称，后又输出了公司的简介。"
   ]
  },
  {
   "cell_type": "markdown",
   "id": "d453316e",
   "metadata": {},
   "source": [
    "## 普通顺序链\n",
    "\n",
    "普通顺序链是一种处理多个输入和多个输出的链式结构。与简单顺序链不同，普通顺序链可以处理多个输入，并生成多个输出结果。这种类型的顺序链通常用于更复杂的数据处理任务，其中输入和输出可能具有多个维度或特征。\n"
   ]
  },
  {
   "cell_type": "markdown",
   "id": "a3b9c52f",
   "metadata": {},
   "source": [
    "先导入普通顺序链，实例化一个ChatOpenAI。"
   ]
  },
  {
   "cell_type": "code",
   "execution_count": null,
   "id": "077b357d",
   "metadata": {},
   "outputs": [],
   "source": [
    "from langchain.chains import SequentialChain\n",
    "llm = ChatOpenAI(temperature=0.9)"
   ]
  },
  {
   "cell_type": "markdown",
   "id": "4b8365ba",
   "metadata": {},
   "source": [
    "接下来，以一个实际案例，展现普通顺序链的工作流程。\n",
    "\n",
    "创建一系列我们将要一个接一个使用的链。我们将使用上面的数据，它有一个评论。"
   ]
  },
  {
   "cell_type": "markdown",
   "id": "9d4d1968",
   "metadata": {},
   "source": [
    "设置第一个提示词模板和第一个LLMChain。第一个链，我们将接受评论{Review}并将其翻译成英语。\n",
    "\n",
    "第一次接收外部的参数 `Review `,结果导出后保存为 `English_Review `。"
   ]
  },
  {
   "cell_type": "code",
   "execution_count": null,
   "id": "74cb911d",
   "metadata": {},
   "outputs": [],
   "source": [
    "\n",
    "\n",
    "# prompt template 1: translate to english\n",
    "first_prompt = ChatPromptTemplate.from_template(\n",
    "    \"Translate the following review to english:\"\n",
    "    \"\\n\\n{Review}\"\n",
    ")\n",
    "# chain 1: input= Review and output= English_Review\n",
    "chain_one = LLMChain(llm=llm, prompt=first_prompt, \n",
    "                     output_key=\"English_Review\"\n",
    "                    )"
   ]
  },
  {
   "cell_type": "markdown",
   "id": "78e43531",
   "metadata": {},
   "source": [
    "设置第二个提示词模板和第二个LLMChain。第二个链利用第一个链的结果，我们将创建该评论的一句话摘要。\n",
    "\n",
    "接收外部的参数 `English_Review `,结果导出后保存为 `summary `。"
   ]
  },
  {
   "cell_type": "code",
   "execution_count": null,
   "id": "c658e0f1",
   "metadata": {},
   "outputs": [],
   "source": [
    "second_prompt = ChatPromptTemplate.from_template(\n",
    "    \"Can you summarize the following review in 1 sentence:\"\n",
    "    \"\\n\\n{English_Review}\"\n",
    ")\n",
    "# chain 2: input= English_Review and output= summary\n",
    "chain_two = LLMChain(llm=llm, prompt=second_prompt, \n",
    "                     output_key=\"summary\"\n",
    "                    )"
   ]
  },
  {
   "cell_type": "markdown",
   "id": "5d285be1",
   "metadata": {},
   "source": [
    "设置第三个提示词模板和第三个LLMChain。第三个链将检测评论最初是用哪种语言写的。\n",
    "\n",
    "接收外部的参数 `Review `,结果导出后保存为 `language`。"
   ]
  },
  {
   "cell_type": "code",
   "execution_count": null,
   "id": "411ed743",
   "metadata": {},
   "outputs": [],
   "source": [
    "# prompt template 3: translate to english\n",
    "third_prompt = ChatPromptTemplate.from_template(\n",
    "    \"What language is the following review:\\n\\n{Review}\"\n",
    ")\n",
    "# chain 3: input= Review and output= language\n",
    "chain_three = LLMChain(llm=llm, prompt=third_prompt,\n",
    "                       output_key=\"language\"\n",
    "                      )"
   ]
  },
  {
   "cell_type": "markdown",
   "id": "58c36ee4",
   "metadata": {},
   "source": [
    "第四个链将接受多个输入。"
   ]
  },
  {
   "cell_type": "markdown",
   "id": "b04d7581",
   "metadata": {},
   "source": [
    "设置第四个提示词模板和第四个LLMChain。\n",
    "\n",
    "因此，这将接受我们在第二个链中计算出的summary变量，以及我们在第三个链中计算出的language变量。\n",
    "\n",
    "它将要求用指定的语言对摘要做出回应。\n",
    "\n",
    "接收外部的参数 `summary ` 和  `language `,结果导出后保存为 `followup_message`。"
   ]
  },
  {
   "cell_type": "code",
   "execution_count": null,
   "id": "5b678786",
   "metadata": {},
   "outputs": [],
   "source": [
    "\n",
    "# prompt template 4: follow up message\n",
    "fourth_prompt = ChatPromptTemplate.from_template(\n",
    "    \"Write a follow up response to the following \"\n",
    "    \"summary in the specified language:\"\n",
    "    \"\\n\\nSummary: {summary}\\n\\nLanguage: {language}\"\n",
    ")\n",
    "# chain 4: input= summary, language and output= followup_message\n",
    "chain_four = LLMChain(llm=llm, prompt=fourth_prompt,\n",
    "                      output_key=\"followup_message\"\n",
    "                     )"
   ]
  },
  {
   "cell_type": "markdown",
   "id": "90a70f29",
   "metadata": {},
   "source": [
    "所有这些子链需要非常精确输入键和输出键。"
   ]
  },
  {
   "cell_type": "markdown",
   "id": "52142bd4",
   "metadata": {},
   "source": [
    "使用 SequentialChain 整合前面四个LLMChain。"
   ]
  },
  {
   "cell_type": "markdown",
   "id": "bf8c0268",
   "metadata": {},
   "source": [
    "链中的任何一步都可以接受多个输入变量。当你有更复杂的下游链需要多个先前链的组合时，这是非常有用的。现在我们有了所有这些链，我们可以轻松地将它们组合在顺序链中。"
   ]
  },
  {
   "cell_type": "markdown",
   "id": "426a6721",
   "metadata": {},
   "source": [
    "四个链传递到chains变量中。我们将创建一个输入变量，这是一个人类输入，即评论。还需要返回所有中间输出。"
   ]
  },
  {
   "cell_type": "code",
   "execution_count": null,
   "id": "4e65cd39",
   "metadata": {},
   "outputs": [],
   "source": [
    "# overall_chain: input= Review \n",
    "# and output= English_Review,summary, followup_message\n",
    "overall_chain = SequentialChain(\n",
    "    chains=[chain_one, chain_two, chain_three, chain_four],\n",
    "    input_variables=[\"Review\"],\n",
    "    output_variables=[\"English_Review\", \"summary\",\"followup_message\"],\n",
    "    verbose=True\n",
    ")"
   ]
  },
  {
   "cell_type": "markdown",
   "id": "64af7060",
   "metadata": {},
   "source": [
    "我们给一个外部输入 `review`后，运行该顺序链。"
   ]
  },
  {
   "cell_type": "code",
   "execution_count": null,
   "id": "c3edc1e6",
   "metadata": {},
   "outputs": [],
   "source": [
    "review = \"Je trouve le goût médiocre. La mousse ne tient pas, c'est bizarre. J'achète les mêmes dans le commerce et le goût est bien meilleur...\\nVieux lot ou contrefaçon !?\"\n",
    "overall_chain(review)"
   ]
  },
  {
   "cell_type": "markdown",
   "id": "effe12e9",
   "metadata": {},
   "source": [
    "LLM输出{'Review': \"省略\",\n",
    " 'English_Review': \"省略\",\n",
    " 'summary': '省略',\n",
    " 'followup_message': \"省略\"}"
   ]
  },
  {
   "cell_type": "markdown",
   "id": "413e2bcb",
   "metadata": {},
   "source": [
    "可以在这里看到，原始评论看起来是用法语写的。我们可以看到英语评论作为翻译。我们可以看到该评论的摘要，然后我们可以看到用原始语言法语写的后续消息。"
   ]
  },
  {
   "cell_type": "markdown",
   "id": "3175a5f6",
   "metadata": {},
   "source": [
    "## 路由器链介绍 (RouterChain)\n",
    "\n",
    "路由器链是一种用于根据输入的类型将输入路由到不同的子链的链式结构。它的主要作用是根据输入的内容或特征将输入数据定向到不同的处理子链，从而实现针对不同类型的输入进行个性化处理的目的。"
   ]
  },
  {
   "cell_type": "markdown",
   "id": "00670b28",
   "metadata": {},
   "source": [
    "### 路由器链案例\n",
    "\n",
    "假设学校开设四门课，物理、数学、计算机科学、历史，分别是四个教授担任讲师。当我们提问时，由导学台（LLM）判断问题的类型，分配不同的老师，由专业的老师（这里指的是LLM)回答问题。 \n",
    "\n",
    "接下来我们看如何运用路由链实现这个需求。"
   ]
  },
  {
   "cell_type": "markdown",
   "id": "9c50517b",
   "metadata": {},
   "source": [
    "\n",
    "  1. 定义四个不同类型的提示模板：\n",
    "  2. 导入多提示链，用于在多个不同的提示模板之间进行路由。导入LLM路由器链，利用语言模型本身在不同的子链之间进行路由。导入路由器输出解析器，解析LLM输出为字典，以便确定使用哪个链及该链的输入。\n",
    "  3. 导入并定义将要使用的语言模型。\n",
    "  4. 创建目的地链，用于路由器链调用，每个目的地链本身都是一个语言模型链。\n",
    "  5. 定义默认链，当路由器无法决定使用哪个子链时调用，通常用于处理与给定提示模板无关的输入问题。\n",
    "  6. 定义LLM模板，用于在不同链之间进行路由，包括任务指令和输出格式。\n",
    "  7. 构建路由器链，将各部分整合在一起。"
   ]
  },
  {
   "cell_type": "markdown",
   "id": "f91a8925",
   "metadata": {},
   "source": [
    "第一个提示适合回答物理问题。第二个提示适合回答数学问题，第三个用于历史，然后第四个用于计算机科学。\n",
    "\n",
    "让我们定义所有这些提示模板。在我们提供了这些提示模板之后，我们可以提供更多关于它们的信息。\n",
    "\n",
    "我们可以给每一个都起一个名字，然后描述一下。比如这个物理的描述是适合回答关于物理的问题。"
   ]
  },
  {
   "cell_type": "markdown",
   "id": "10c9826d",
   "metadata": {},
   "source": [
    "1. 定义不同类型的提示模板：\n",
    "\n",
    "首先新建候选课程的提示模板。他们接收学生的问题，回答该专业下的知识。"
   ]
  },
  {
   "cell_type": "code",
   "execution_count": null,
   "id": "6dfe6cf4",
   "metadata": {},
   "outputs": [],
   "source": [
    "physics_template = \"\"\"You are a very smart physics professor. \\\n",
    "You are great at answering questions about physics in a concise\\\n",
    "and easy to understand manner. \\\n",
    "When you don't know the answer to a question you admit\\\n",
    "that you don't know.\n",
    "\n",
    "Here is a question:\n",
    "{input}\"\"\"\n",
    "\n",
    "\n",
    "math_template = \"\"\"You are a very good mathematician. \\\n",
    "You are great at answering math questions. \\\n",
    "You are so good because you are able to break down \\\n",
    "hard problems into their component parts, \n",
    "answer the component parts, and then put them together\\\n",
    "to answer the broader question.\n",
    "\n",
    "Here is a question:\n",
    "{input}\"\"\"\n",
    "\n",
    "history_template = \"\"\"You are a very good historian. \\\n",
    "You have an excellent knowledge of and understanding of people,\\\n",
    "events and contexts from a range of historical periods. \\\n",
    "You have the ability to think, reflect, debate, discuss and \\\n",
    "evaluate the past. You have a respect for historical evidence\\\n",
    "and the ability to make use of it to support your explanations \\\n",
    "and judgements.\n",
    "\n",
    "Here is a question:\n",
    "{input}\"\"\"\n",
    "\n",
    "\n",
    "computerscience_template = \"\"\" You are a successful computer scientist.\\\n",
    "You have a passion for creativity, collaboration,\\\n",
    "forward-thinking, confidence, strong problem-solving capabilities,\\\n",
    "understanding of theories and algorithms, and excellent communication \\\n",
    "skills. You are great at answering coding questions. \\\n",
    "You are so good because you know how to solve a problem by \\\n",
    "describing the solution in imperative steps \\\n",
    "that a machine can easily interpret and you know how to \\\n",
    "choose a solution that has a good balance between \\\n",
    "time complexity and space complexity. \n",
    "\n",
    "Here is a question:\n",
    "{input}\"\"\""
   ]
  },
  {
   "cell_type": "markdown",
   "id": "d90fe1c1",
   "metadata": {},
   "source": [
    "组合为一个大的数组，方便遍历管理。"
   ]
  },
  {
   "cell_type": "code",
   "execution_count": null,
   "id": "32a99b89",
   "metadata": {},
   "outputs": [],
   "source": [
    "prompt_infos = [\n",
    "    {\n",
    "        \"name\": \"physics\", \n",
    "        \"description\": \"Good for answering questions about physics\", \n",
    "        \"prompt_template\": physics_template\n",
    "    },\n",
    "    {\n",
    "        \"name\": \"math\", \n",
    "        \"description\": \"Good for answering math questions\", \n",
    "        \"prompt_template\": math_template\n",
    "    },\n",
    "    {\n",
    "        \"name\": \"History\", \n",
    "        \"description\": \"Good for answering history questions\", \n",
    "        \"prompt_template\": history_template\n",
    "    },\n",
    "    {\n",
    "        \"name\": \"computer science\", \n",
    "        \"description\": \"Good for answering computer science questions\", \n",
    "        \"prompt_template\": computerscience_template\n",
    "    }\n",
    "]"
   ]
  },
  {
   "cell_type": "markdown",
   "id": "86286f87",
   "metadata": {},
   "source": [
    "  2. 导入多提示链，用于在多个不同的提示模板之间进行路由。导入LLM路由器链，利用语言模型本身在不同的子链之间进行路由。导入路由器输出解析器，解析LLM输出为字典，以便确定使用哪个链及该链的输入。"
   ]
  },
  {
   "cell_type": "code",
   "execution_count": null,
   "id": "276b0733",
   "metadata": {},
   "outputs": [],
   "source": [
    "from langchain.chains.router import MultiPromptChain\n",
    "from langchain.chains.router.llm_router import LLMRouterChain,RouterOutputParser\n",
    "from langchain.prompts import PromptTemplate"
   ]
  },
  {
   "cell_type": "markdown",
   "id": "a689c5fd",
   "metadata": {},
   "source": [
    "3. 定义将要使用的语言模型，“给对话机器人注入说话的能力。”"
   ]
  },
  {
   "cell_type": "code",
   "execution_count": null,
   "id": "15f71dc1",
   "metadata": {},
   "outputs": [],
   "source": [
    "llm = ChatOpenAI(temperature=0)"
   ]
  },
  {
   "cell_type": "markdown",
   "id": "d3fdd345",
   "metadata": {},
   "source": [
    "4. 创建目的地链，用于路由器链调用，每个目的地链本身都是一个语言模型链。"
   ]
  },
  {
   "cell_type": "markdown",
   "id": "8476fcf5",
   "metadata": {},
   "source": [
    "这四个学科的LLMChain，将所有的学科的提示词名称和描述以json字符串的形式拼接为 `destinations_str`变量。"
   ]
  },
  {
   "cell_type": "code",
   "execution_count": null,
   "id": "03a48a6f",
   "metadata": {},
   "outputs": [],
   "source": [
    "destination_chains = {}\n",
    "for p_info in prompt_infos:\n",
    "    name = p_info[\"name\"]\n",
    "    prompt_template = p_info[\"prompt_template\"]\n",
    "    prompt = ChatPromptTemplate.from_template(template=prompt_template)\n",
    "    chain = LLMChain(llm=llm, prompt=prompt)\n",
    "    destination_chains[name] = chain  \n",
    "    \n",
    "destinations = [f\"{p['name']}: {p['description']}\" for p in prompt_infos]\n",
    "destinations_str = \"\\n\".join(destinations)"
   ]
  },
  {
   "cell_type": "markdown",
   "id": "cec60696",
   "metadata": {},
   "source": [
    "5. 定义默认链，当路由器无法决定使用哪个子链时调用，通常用于处理与给定提示模板无关的输入问题。"
   ]
  },
  {
   "cell_type": "markdown",
   "id": "b43c8417",
   "metadata": {},
   "source": [
    "在上面的例子中，当输入问题与物理、数学、历史或计算机科学无关时，这可能会被调用。"
   ]
  },
  {
   "cell_type": "code",
   "execution_count": null,
   "id": "636f6469",
   "metadata": {},
   "outputs": [],
   "source": [
    "default_prompt = ChatPromptTemplate.from_template(\"{input}\")\n",
    "default_chain = LLMChain(llm=llm, prompt=default_prompt)"
   ]
  },
  {
   "cell_type": "markdown",
   "id": "43a7e5dc",
   "metadata": {},
   "source": [
    "为LLMRouterChain，创建一个提示词模板。该模板是理解路由链的关键，该链利用语言模型本身在不同的子链之间进行路由。\n",
    "\n",
    "它描述了一个多路由模板，目的是根据原始文本输入选择最适合的模型提示。任务包括以下几个要点：\n",
    "\n",
    "1. 给定原始文本输入到语言模型中，选择最适合输入的模型提示。\n",
    "2. 提供可用提示的名称和提示适用情况的描述。\n",
    "3. 如果认为修改原始输入可以导致更好的响应，则可以对原始输入进行修改。\n",
    "4. 返回一个Markdown代码片段，其中包含格式化为JSON对象的内容。\n",
    "\n",
    "下面是任务模板中的详细说明：\n",
    "\n",
    "- 返回的JSON对象应包含两个字段：\n",
    "  - \"destination\"：指示要使用的模型提示的名称，或如果输入不适合任何候选提示，则为\"DEFAULT\"。\n",
    "  - \"next_inputs\"：可能是原始输入的修改版本，如果不认为需要任何修改，则可以是原始输入。\n",
    "\n",
    "任务模板还包括了候选提示的名称和输入/输出的占位符。"
   ]
  },
  {
   "cell_type": "markdown",
   "id": "1e81d972",
   "metadata": {},
   "source": [
    "6. 定义LLM模板，用于在不同链之间进行路由，包括任务指令和输出格式。"
   ]
  },
  {
   "cell_type": "code",
   "execution_count": null,
   "id": "bdb06bf3",
   "metadata": {},
   "outputs": [],
   "source": [
    "MULTI_PROMPT_ROUTER_TEMPLATE = \"\"\"Given a raw text input to a \\\n",
    "language model select the model prompt best suited for the input. \\\n",
    "You will be given the names of the available prompts and a \\\n",
    "description of what the prompt is best suited for. \\\n",
    "You may also revise the original input if you think that revising\\\n",
    "it will ultimately lead to a better response from the language model.\n",
    "\n",
    "<< FORMATTING >>\n",
    "Return a markdown code snippet with a JSON object formatted to look like:\n",
    "```json\n",
    "{{{{\n",
    "    \"destination\": string \\ name of the prompt to use or \"DEFAULT\"\n",
    "    \"next_inputs\": string \\ a potentially modified version of the original input\n",
    "}}}}\n",
    "```\n",
    "\n",
    "REMEMBER: \"destination\" MUST be one of the candidate prompt \\\n",
    "names specified below OR it can be \"DEFAULT\" if the input is not\\\n",
    "well suited for any of the candidate prompts.\n",
    "REMEMBER: \"next_inputs\" can just be the original input \\\n",
    "if you don't think any modifications are needed.\n",
    "\n",
    "<< CANDIDATE PROMPTS >>\n",
    "{destinations}\n",
    "\n",
    "<< INPUT >>\n",
    "{{input}}\n",
    "\n",
    "<< OUTPUT (remember to wrap the output with ```json (output)```)>>\"\"\""
   ]
  },
  {
   "cell_type": "markdown",
   "id": "68fccea1",
   "metadata": {},
   "source": [
    "将所有的候选学科模板名称和描述注入到导学台的提示模板占位符中，形成由导学台（LLM）选择走哪个候选学科模板的完整提示词。"
   ]
  },
  {
   "cell_type": "markdown",
   "id": "6cef1330",
   "metadata": {},
   "source": [
    "实例化 LLMRouterChain，并且配置提示词模板的输入和输出配置，提示词模板使用导学台的模板。"
   ]
  },
  {
   "cell_type": "markdown",
   "id": "eae5584b",
   "metadata": {},
   "source": [
    "注意：这里我们有路由器输出解析器。这很重要，因为它将帮助这个链决定在哪些子链之间进行路由。"
   ]
  },
  {
   "cell_type": "code",
   "execution_count": null,
   "id": "0f0bd1c9",
   "metadata": {},
   "outputs": [],
   "source": [
    "router_template = MULTI_PROMPT_ROUTER_TEMPLATE.format(\n",
    "    destinations=destinations_str\n",
    ")\n",
    "router_prompt = PromptTemplate(\n",
    "    template=router_template,\n",
    "    input_variables=[\"input\"],\n",
    "    output_parser=RouterOutputParser(),\n",
    ")\n",
    "\n",
    "router_chain = LLMRouterChain.from_llm(llm, router_prompt)"
   ]
  },
  {
   "cell_type": "markdown",
   "id": "4bd7279c",
   "metadata": {},
   "source": [
    "7. 最后，把所有东西放在一起，我们可以创建整体链。这有一个路由器链，在这里定义。它有目的地链，我们在这里传入。然后我们还传入默认链。"
   ]
  },
  {
   "cell_type": "markdown",
   "id": "da11d3aa",
   "metadata": {},
   "source": [
    "实例化 MultiPromptChain，配置`router_chain` (导学台）、`destination_chains` （4个候选学科）以及 `default_chain`(学生提问的输入） 。将学生输入问题，导学台分配老师的业务流程串联一体。"
   ]
  },
  {
   "cell_type": "code",
   "execution_count": null,
   "id": "98d3388d",
   "metadata": {},
   "outputs": [],
   "source": [
    "chain = MultiPromptChain(router_chain=router_chain, \n",
    "                         destination_chains=destination_chains, \n",
    "                         default_chain=default_chain, verbose=True\n",
    "                        )"
   ]
  },
  {
   "cell_type": "markdown",
   "id": "120c31dc",
   "metadata": {},
   "source": [
    "我们现在可以使用这个链。"
   ]
  },
  {
   "cell_type": "markdown",
   "id": "a20c847a",
   "metadata": {},
   "source": [
    "我们以不同的学科问题，测试该路由链的完成情况。针对不同类型的学科问题输入，路由链是否定位了正确的候选老师进行个性化处理，使得学生的问题能够得到更加完美的回答。"
   ]
  },
  {
   "cell_type": "markdown",
   "id": "5d9c69cd",
   "metadata": {},
   "source": [
    "如果我们问一个关于物理的问题，我们应该希望看到它被路由到物理链，输入是什么是黑体辐射？"
   ]
  },
  {
   "cell_type": "code",
   "execution_count": null,
   "id": "7d9a2539",
   "metadata": {},
   "outputs": [],
   "source": [
    "chain.run(\"What is black body radiation?\")"
   ]
  },
  {
   "cell_type": "markdown",
   "id": "19ea442a",
   "metadata": {},
   "source": [
    "LLM输出：physics: {'input': 'What is black body radiation?'}"
   ]
  },
  {
   "cell_type": "markdown",
   "id": "76c0fad3",
   "metadata": {},
   "source": [
    "尝试输入不同的内容。"
   ]
  },
  {
   "cell_type": "code",
   "execution_count": null,
   "id": "f723333e",
   "metadata": {},
   "outputs": [],
   "source": [
    "chain.run(\"what is 2 + 2\")"
   ]
  },
  {
   "cell_type": "markdown",
   "id": "896c1c29",
   "metadata": {},
   "source": [
    "LLM输出：math: {'input': 'what is 2 + 2'}\n",
    "> Finished chain.\n",
    "The answer to 2 + 2 is 4."
   ]
  },
  {
   "cell_type": "markdown",
   "id": "fb36db16",
   "metadata": {},
   "source": [
    "尝试输入不同的内容。如果不是四个学科的时候，会发生什么？以生物问题为例。"
   ]
  },
  {
   "cell_type": "code",
   "execution_count": null,
   "id": "464f156f",
   "metadata": {},
   "outputs": [],
   "source": [
    "chain.run(\"Why does every cell in our body contain DNA?\")"
   ]
  },
  {
   "cell_type": "markdown",
   "id": "a45392ec",
   "metadata": {},
   "source": [
    "如果运行一些LLM判断不了的对话，那又会发生什么？"
   ]
  },
  {
   "cell_type": "code",
   "execution_count": null,
   "id": "cc068581",
   "metadata": {},
   "outputs": [],
   "source": [
    "chain.run(\"你是谁?\")"
   ]
  },
  {
   "cell_type": "markdown",
   "id": "e356ead2",
   "metadata": {},
   "source": [
    "LLM输出：None: {'input': '你是谁'}\n",
    "\n",
    "我是一个人工智能助手，可以回答你的问题和提供帮助。有什么可以帮到你的吗？"
   ]
  }
 ],
 "metadata": {
  "kernelspec": {
   "display_name": "Python 3 (ipykernel)",
   "language": "python",
   "name": "python3"
  },
  "language_info": {
   "codemirror_mode": {
    "name": "ipython",
    "version": 3
   },
   "file_extension": ".py",
   "mimetype": "text/x-python",
   "name": "python",
   "nbconvert_exporter": "python",
   "pygments_lexer": "ipython3",
   "version": "3.11.7"
  }
 },
 "nbformat": 4,
 "nbformat_minor": 5
}

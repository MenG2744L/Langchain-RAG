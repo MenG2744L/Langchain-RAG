{
 "cells": [
  {
   "cell_type": "markdown",
   "id": "22643b33",
   "metadata": {},
   "source": [
    "# 第四节 学习Memory及其应用实践\n",
    "\n",
    "### 课程笔记大纲\n",
    "\n",
    "1. 记忆管理介绍\n",
    "2. LangChain的记忆类型\n",
    "3. ConversationBufferMemory 记忆\n",
    "4. ConversationBufferWindowMemory 记忆\n",
    "5. ConversationTokenBufferMemory 记忆\n",
    "6. ConversationSummaryBufferMemory 记忆"
   ]
  },
  {
   "cell_type": "markdown",
   "id": "604e96f4",
   "metadata": {},
   "source": [
    "## 记忆管理介绍\n",
    "\n",
    "\n",
    "LangChain记忆管理是提供了管理记忆的工具，提供了多种复杂的内存管理选项，使用户能够灵活地控制对话历史的存储和管理方式。\n",
    "\n",
    "在介绍不同的记忆组件的时候，我们先使用人工方法推入2-3轮对话记录，通过给记忆组件设置不同的参数，打印最后记忆组件记住的内容，对比各种类型记忆组件。最后我们都会使用ConversationChain会话链，将记忆组件赋值给会话链，构造出具有记忆的会话链。"
   ]
  },
  {
   "cell_type": "markdown",
   "id": "354fef04",
   "metadata": {},
   "source": [
    "### 环境安装配置\n",
    "\n",
    "首先，为了能够顺利进行开发工作，需要确保机器上安装了相应的Python包。开发者可以通过以下命令轻松完成安装："
   ]
  },
  {
   "cell_type": "code",
   "execution_count": null,
   "id": "7461062b",
   "metadata": {},
   "outputs": [],
   "source": [
    "%pip install --upgrade --quiet  openai langchain-openai langchain"
   ]
  },
  {
   "cell_type": "markdown",
   "id": "5590a1ba",
   "metadata": {},
   "source": [
    "导入OpenAI模块,设置好开发密钥。"
   ]
  },
  {
   "cell_type": "code",
   "execution_count": null,
   "id": "89ebf91b",
   "metadata": {},
   "outputs": [],
   "source": [
    "import os\n",
    "API_SECRET_KEY = \"填写【个人资料】中获取的最新token\"\n",
    "BASE_URL = \"https://www.ai360labs.com/openai/v1/\"\n",
    "\n",
    "os.environ[\"OPENAI_API_KEY\"] = API_SECRET_KEY\n",
    "os.environ[\"OPENAI_BASE_URL\"] = BASE_URL"
   ]
  },
  {
   "cell_type": "code",
   "execution_count": null,
   "id": "f01b8798",
   "metadata": {},
   "outputs": [],
   "source": [
    "\n",
    "import openai\n",
    "from langchain_openai import ChatOpenAI,OpenAI"
   ]
  },
  {
   "cell_type": "markdown",
   "id": "27d8948c",
   "metadata": {},
   "source": [
    "## LangChain的记忆类型 ConversationBufferMemory\n",
    "\n",
    "ConversationBufferMemory通过将每个对话交换保存为单独的记录或条目来存储对话历史。"
   ]
  },
  {
   "cell_type": "code",
   "execution_count": null,
   "id": "0be64d03",
   "metadata": {},
   "outputs": [],
   "source": [
    "from langchain_openai import ChatOpenAI\n",
    "from langchain.chains import ConversationChain\n",
    "from langchain.memory import ConversationBufferMemory\n"
   ]
  },
  {
   "cell_type": "markdown",
   "id": "82487aae",
   "metadata": {},
   "source": [
    "LangChain 记忆管理类的使用方式：\n",
    "\n",
    "1. 实例化该类\n",
    "2. 实例化一个会话链 ConversationChain ， 设置 memory 属性为记忆类的实例。"
   ]
  },
  {
   "cell_type": "code",
   "execution_count": null,
   "id": "bcf8cdb0",
   "metadata": {},
   "outputs": [],
   "source": [
    "llm = ChatOpenAI(temperature=0.0)\n",
    "memory = ConversationBufferMemory()\n",
    "conversation = ConversationChain(\n",
    "    llm=llm, \n",
    "    verbose=True,\n",
    "    memory = memory\n",
    ")"
   ]
  },
  {
   "cell_type": "markdown",
   "id": "cfdc2c5b",
   "metadata": {},
   "source": [
    "依次进行以下三个问题，先告诉LLM我的名字，然后岔开话题问中国北京的首都是哪里，最后询问是否记得我的名字。"
   ]
  },
  {
   "cell_type": "code",
   "execution_count": null,
   "id": "91b903be",
   "metadata": {},
   "outputs": [],
   "source": [
    "conversation.predict(input=\"你好！我的名字是李特丽\")"
   ]
  },
  {
   "cell_type": "code",
   "execution_count": null,
   "id": "9963721e",
   "metadata": {},
   "outputs": [],
   "source": [
    "conversation.predict(input=\"中国的首都是哪里?\")"
   ]
  },
  {
   "cell_type": "code",
   "execution_count": null,
   "id": "e77d0adb",
   "metadata": {},
   "outputs": [],
   "source": [
    "conversation.predict(input=\"我的名字是什么?\")"
   ]
  },
  {
   "cell_type": "code",
   "execution_count": null,
   "id": "1c2bf9f0",
   "metadata": {},
   "outputs": [],
   "source": [
    "memory.load_memory_variables({})"
   ]
  },
  {
   "cell_type": "markdown",
   "id": "b2d9ae7b",
   "metadata": {},
   "source": [
    "为了更清晰地对比，这次我们并不使用ConversationChain会话链，我们重新设置一个记忆组件。\n",
    "\n",
    "ConversationBufferMemory的工作机制是保存单独的条目来存储对话历史。\n",
    "\n",
    "我们通过save_context方法，给记忆组件添加一些对话记录。"
   ]
  },
  {
   "cell_type": "code",
   "execution_count": null,
   "id": "b19fb0e4",
   "metadata": {},
   "outputs": [],
   "source": [
    "memory = ConversationBufferMemory()"
   ]
  },
  {
   "cell_type": "markdown",
   "id": "218368f3",
   "metadata": {},
   "source": [
    "使用save_context可以向记忆组件添加新的记录。"
   ]
  },
  {
   "cell_type": "code",
   "execution_count": null,
   "id": "4c6056fe",
   "metadata": {},
   "outputs": [],
   "source": [
    "memory.save_context({\"input\": \"Hi\"}, \n",
    "                    {\"output\": \"What's up\"})"
   ]
  },
  {
   "cell_type": "markdown",
   "id": "2a6a3ff6",
   "metadata": {},
   "source": [
    "打印记忆组件，查看里面的存储记忆。"
   ]
  },
  {
   "cell_type": "code",
   "execution_count": null,
   "id": "513e13a9",
   "metadata": {},
   "outputs": [],
   "source": [
    "print(memory.buffer)"
   ]
  },
  {
   "cell_type": "code",
   "execution_count": null,
   "id": "e97fab09",
   "metadata": {},
   "outputs": [],
   "source": [
    "memory.load_memory_variables({})"
   ]
  },
  {
   "cell_type": "markdown",
   "id": "113989a7",
   "metadata": {},
   "source": [
    "再次添加新的记录。"
   ]
  },
  {
   "cell_type": "code",
   "execution_count": null,
   "id": "9d4b10ab",
   "metadata": {},
   "outputs": [],
   "source": [
    "memory.save_context({\"input\": \"Not much, just hanging\"}, \n",
    "                    {\"output\": \"Cool\"})"
   ]
  },
  {
   "cell_type": "markdown",
   "id": "c5980ec7",
   "metadata": {},
   "source": [
    "通过查看和对比，感知 ConversationBufferMemory 类型的记忆组件的特点，便于你更快掌握这个记忆组件。"
   ]
  },
  {
   "cell_type": "code",
   "execution_count": null,
   "id": "a539e0cc",
   "metadata": {},
   "outputs": [],
   "source": [
    "memory.load_memory_variables({})"
   ]
  },
  {
   "cell_type": "markdown",
   "id": "08d366cf",
   "metadata": {},
   "source": [
    "## ConversationBufferWindowMemory"
   ]
  },
  {
   "cell_type": "markdown",
   "id": "363047cc",
   "metadata": {},
   "source": [
    "ConversationBufferWindowMemory固定存储最近的一段时间内的对话交换。\n",
    "\n",
    "   - 它会限制存储的对话交换数量，而不是存储整个对话历史。\n",
    "   - 每当新的对话交换发生时，系统会将其添加到内存中，并自动删除最早的对话交换，以保持固定数量的对话交换。"
   ]
  },
  {
   "cell_type": "code",
   "execution_count": null,
   "id": "7f210ffa",
   "metadata": {},
   "outputs": [],
   "source": [
    "from langchain.memory import ConversationBufferWindowMemory"
   ]
  },
  {
   "cell_type": "markdown",
   "id": "19a8a43e",
   "metadata": {},
   "source": [
    "设置仅仅保存最近一次的记录(k=1)。你可以随意修改K值，测试记忆组件的效果。"
   ]
  },
  {
   "cell_type": "code",
   "execution_count": null,
   "id": "acc95800",
   "metadata": {},
   "outputs": [],
   "source": [
    "memory = ConversationBufferWindowMemory(k=1) "
   ]
  },
  {
   "cell_type": "markdown",
   "id": "19d0ee0a",
   "metadata": {},
   "source": [
    "模拟两条对话记录。"
   ]
  },
  {
   "cell_type": "code",
   "execution_count": null,
   "id": "53f867a9",
   "metadata": {},
   "outputs": [],
   "source": [
    "memory.save_context({\"input\": \"Hi\"},\n",
    "                    {\"output\": \"What's up\"})\n",
    "memory.save_context({\"input\": \"Not much, just hanging\"},\n",
    "                    {\"output\": \"Cool\"})"
   ]
  },
  {
   "cell_type": "markdown",
   "id": "3db466b7",
   "metadata": {},
   "source": [
    "查看记忆组件记住了什么？"
   ]
  },
  {
   "cell_type": "code",
   "execution_count": null,
   "id": "a9605b29",
   "metadata": {},
   "outputs": [],
   "source": [
    "memory.load_memory_variables({})"
   ]
  },
  {
   "cell_type": "markdown",
   "id": "ca74cf96",
   "metadata": {},
   "source": [
    "现在，我们使用ConversationChain会话链，完整地构造 ConversationBufferWindowMemory 记忆组件。"
   ]
  },
  {
   "cell_type": "code",
   "execution_count": null,
   "id": "4b3130e3",
   "metadata": {},
   "outputs": [],
   "source": [
    "llm = ChatOpenAI(temperature=0.0)\n",
    "memory = ConversationBufferWindowMemory(k=1) # just remember 1 conversational exchange\n",
    "conversation = ConversationChain(\n",
    "    llm=llm, \n",
    "    memory = memory,\n",
    "    verbose=False\n",
    ")"
   ]
  },
  {
   "cell_type": "markdown",
   "id": "3d8a9d6a",
   "metadata": {},
   "source": [
    "依次进行以下三个问题，先告诉LLM我的名字，然后岔开话题问中国北京的首都是哪里，最后询问是否记得我的名字。"
   ]
  },
  {
   "cell_type": "code",
   "execution_count": null,
   "id": "9756e140",
   "metadata": {},
   "outputs": [],
   "source": [
    "conversation.predict(input=\"你好！我叫李特丽\")"
   ]
  },
  {
   "cell_type": "code",
   "execution_count": null,
   "id": "6110490d",
   "metadata": {},
   "outputs": [],
   "source": [
    "conversation.predict(input=\"中国的首都是哪里?\")"
   ]
  },
  {
   "cell_type": "markdown",
   "id": "e93da0d4",
   "metadata": {},
   "source": [
    "与上一个案例不同的是，这一次它忘记了我的名字,因为我们设置的是仅仅记住最后一轮的对话记录(memory = ConversationBufferWindowMemory(k=1) )"
   ]
  },
  {
   "cell_type": "code",
   "execution_count": null,
   "id": "53292aa0",
   "metadata": {},
   "outputs": [],
   "source": [
    "conversation.predict(input=\"我叫什么名字?\")"
   ]
  },
  {
   "cell_type": "markdown",
   "id": "4a12dcf8",
   "metadata": {},
   "source": [
    "打印后看到它仅仅记住了最后一轮对话。"
   ]
  },
  {
   "cell_type": "code",
   "execution_count": null,
   "id": "298dccbe",
   "metadata": {},
   "outputs": [],
   "source": [
    "memory.load_memory_variables({})"
   ]
  },
  {
   "cell_type": "markdown",
   "id": "3f7acfed",
   "metadata": {},
   "source": [
    "## ConversationTokenBufferMemory"
   ]
  },
  {
   "cell_type": "markdown",
   "id": "4fca3aa2",
   "metadata": {},
   "source": [
    "按照Token数形式存储对话历史：\n",
    "   - ConversationSummaryBufferMemory不直接存储完整的对话内容，而是使用限制token数量的形式存储对话历史。\n",
    "   - 它只提取出对话中的最后的对话记录，切割出的聊天记录满足 max_token_limit 所限制的token数。"
   ]
  },
  {
   "cell_type": "markdown",
   "id": "9adbe808",
   "metadata": {},
   "source": [
    "计算记忆组件的记忆内容时，按照token数量进行存储记忆。token数量需要使用到 tiktoken 模块进行分词，所以需要提前下载。"
   ]
  },
  {
   "cell_type": "code",
   "execution_count": null,
   "id": "d365a523",
   "metadata": {},
   "outputs": [],
   "source": [
    "#!pip install tiktoken"
   ]
  },
  {
   "cell_type": "markdown",
   "id": "6b61aaed",
   "metadata": {},
   "source": [
    "进行模块导入和ChatOpenAI初始化。"
   ]
  },
  {
   "cell_type": "code",
   "execution_count": null,
   "id": "4dad29d2",
   "metadata": {},
   "outputs": [],
   "source": [
    "from langchain.memory import ConversationTokenBufferMemory\n",
    "from langchain.llms import OpenAI\n",
    "llm = ChatOpenAI(temperature=0.0)"
   ]
  },
  {
   "cell_type": "markdown",
   "id": "00c9ea48",
   "metadata": {},
   "source": [
    "为了方便测试效果，我们采用手动添加聊天记录。设置记忆组件的 max_token_limit 为30。 也就是说仅仅记忆30个token。"
   ]
  },
  {
   "cell_type": "code",
   "execution_count": null,
   "id": "65ad1561",
   "metadata": {},
   "outputs": [],
   "source": [
    "memory = ConversationTokenBufferMemory(llm=llm, max_token_limit=30)\n",
    "memory.save_context({\"input\": \"AI is what?!\"},\n",
    "                    {\"output\": \"Amazing!\"})\n",
    "memory.save_context({\"input\": \"Backpropagation is what?\"},\n",
    "                    {\"output\": \"Beautiful!\"})\n",
    "memory.save_context({\"input\": \"Chatbots are what?\"}, \n",
    "                    {\"output\": \"Charming!\"})"
   ]
  },
  {
   "cell_type": "markdown",
   "id": "da1adc07",
   "metadata": {},
   "source": [
    "看看这种类型的记忆组件保存的结果。"
   ]
  },
  {
   "cell_type": "markdown",
   "id": "e77284dc",
   "metadata": {},
   "source": [
    "我们可以看到，记忆组件保存了30个token的内容。"
   ]
  },
  {
   "cell_type": "code",
   "execution_count": null,
   "id": "6a4ef354",
   "metadata": {},
   "outputs": [],
   "source": [
    "memory.load_memory_variables({})"
   ]
  },
  {
   "cell_type": "markdown",
   "id": "63f7c539",
   "metadata": {},
   "source": [
    "## ConversationSummaryMemory"
   ]
  },
  {
   "cell_type": "markdown",
   "id": "17e58d20",
   "metadata": {},
   "source": [
    "使用摘要形式存储对话历史：\n",
    "   - ConversationSummaryBufferMemory不直接存储完整的对话内容，而是使用摘要形式存储对话历史。\n",
    "   - 它会对每个对话交换进行摘要处理，提取出对话中的关键信息和重要内容，并以摘要形式保存。\n"
   ]
  },
  {
   "cell_type": "markdown",
   "id": "6d588a72",
   "metadata": {},
   "source": [
    "导入ConversationSummaryBufferMemory记忆组件。"
   ]
  },
  {
   "cell_type": "code",
   "execution_count": null,
   "id": "8faf8b89",
   "metadata": {},
   "outputs": [],
   "source": [
    "from langchain.memory import ConversationSummaryBufferMemory\n"
   ]
  },
  {
   "cell_type": "markdown",
   "id": "bdf4ffad",
   "metadata": {},
   "source": [
    "手工推入多条聊天记录，最后一条输入大量的文字内容 （变量 schedule）。"
   ]
  },
  {
   "cell_type": "code",
   "execution_count": null,
   "id": "86f7ff84",
   "metadata": {},
   "outputs": [],
   "source": [
    "# create a long string\n",
    "schedule = \"There is a meeting at 8am with your product team. \\\n",
    "You will need your powerpoint presentation prepared. \\\n",
    "9am-12pm have time to work on your LangChain \\\n",
    "project which will go quickly because Langchain is such a powerful tool. \\\n",
    "At Noon, lunch at the italian resturant with a customer who is driving \\\n",
    "from over an hour away to meet you to understand the latest in AI. \\\n",
    "Be sure to bring your laptop to show the latest LLM demo.\"\n",
    "\n",
    "memory = ConversationSummaryBufferMemory(llm=llm, max_token_limit=100)\n",
    "memory.save_context({\"input\": \"Hello\"}, {\"output\": \"What's up\"})\n",
    "memory.save_context({\"input\": \"Not much, just hanging\"},\n",
    "                    {\"output\": \"Cool\"})\n",
    "memory.save_context({\"input\": \"What is on the schedule today?\"}, \n",
    "                    {\"output\": f\"{schedule}\"})"
   ]
  },
  {
   "cell_type": "markdown",
   "id": "0c5ff03e",
   "metadata": {},
   "source": [
    "查看最终的记忆结果。虽然我们输入了非常长的对话记录，但是输出的结果被压缩了。"
   ]
  },
  {
   "cell_type": "code",
   "execution_count": null,
   "id": "68a6bf1a",
   "metadata": {},
   "outputs": [],
   "source": [
    "memory.load_memory_variables({})"
   ]
  },
  {
   "cell_type": "markdown",
   "id": "f6af5018",
   "metadata": {},
   "source": [
    "现在，我们使用ConversationChain完整地构造 ConversationBufferWindowMemory 记忆组件。"
   ]
  },
  {
   "cell_type": "code",
   "execution_count": null,
   "id": "d085b3a1",
   "metadata": {},
   "outputs": [],
   "source": [
    "conversation = ConversationChain(\n",
    "    llm=llm, \n",
    "    memory = memory,\n",
    "    verbose=True\n",
    ")"
   ]
  },
  {
   "cell_type": "markdown",
   "id": "ed9efaf5",
   "metadata": {},
   "source": [
    "为了分清楚这些记忆组件的差别，请多测试，通常来说，改变参数值，手动添加聊天记录都是测试的好方法。"
   ]
  },
  {
   "cell_type": "code",
   "execution_count": null,
   "id": "17384ba8",
   "metadata": {},
   "outputs": [],
   "source": [
    "conversation.predict(input=\"What would be a good demo to show?\")"
   ]
  },
  {
   "cell_type": "code",
   "execution_count": null,
   "id": "4eabfb36",
   "metadata": {},
   "outputs": [],
   "source": [
    "memory.load_memory_variables({})"
   ]
  }
 ],
 "metadata": {
  "kernelspec": {
   "display_name": "Python 3 (ipykernel)",
   "language": "python",
   "name": "python3"
  },
  "language_info": {
   "codemirror_mode": {
    "name": "ipython",
    "version": 3
   },
   "file_extension": ".py",
   "mimetype": "text/x-python",
   "name": "python",
   "nbconvert_exporter": "python",
   "pygments_lexer": "ipython3",
   "version": "3.11.7"
  }
 },
 "nbformat": 4,
 "nbformat_minor": 5
}

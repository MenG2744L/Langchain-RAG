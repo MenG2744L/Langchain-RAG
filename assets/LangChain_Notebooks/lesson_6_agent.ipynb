{
 "cells": [
  {
   "cell_type": "markdown",
   "id": "6f228e69",
   "metadata": {},
   "source": [
    "# 第六节 研究Agent智能体及其应用实践\n",
    "\n",
    "### 课程笔记大纲\n",
    "\n",
    "1. LLM作为推理引擎的概念\n",
    "2. LangChain中的Agents\n",
    "3. 初始化Agents\n",
    "4. 使用Agents\n",
    "5. Agents的实际应用示例"
   ]
  },
  {
   "cell_type": "markdown",
   "id": "8169c1e7",
   "metadata": {},
   "source": [
    "### 环境安装配置\n",
    "\n",
    "首先，导入所需的环境变量和依赖包，需要确保机器上安装了相应的Python包。开发者可以通过以下命令轻松完成安装："
   ]
  },
  {
   "cell_type": "code",
   "execution_count": null,
   "id": "815be4d1",
   "metadata": {},
   "outputs": [],
   "source": [
    "%pip install --upgrade --quiet  openai langchain-openai langchain langchainhub"
   ]
  },
  {
   "cell_type": "markdown",
   "id": "6c4110f5",
   "metadata": {},
   "source": [
    "导入OpenAI模块,设置模型型号为`\"gpt-3.5-turbo\"`，设置好开发密钥。"
   ]
  },
  {
   "cell_type": "code",
   "execution_count": null,
   "id": "a903218d",
   "metadata": {},
   "outputs": [],
   "source": [
    "import os\n",
    "API_SECRET_KEY = \"填写【个人资料】中获取的最新token\"\n",
    "BASE_URL = \"https://www.ai360labs.com/openai/v1/\"\n",
    "\n",
    "os.environ[\"OPENAI_API_KEY\"] = API_SECRET_KEY\n",
    "os.environ[\"OPENAI_BASE_URL\"] = BASE_URL"
   ]
  },
  {
   "cell_type": "markdown",
   "id": "5a83499c",
   "metadata": {},
   "source": [
    "## LLM作为Agent的推理引擎\n",
    "\n",
    "LLM的角色和作用：\n",
    "   - 大型语言模型（LLM）扮演着类似于知识存储库的角色，其目的在于理解和处理大量的自然语言文本数据。\n",
    "   - LLM可以被视为一个巨大的语言学习器，通过学习大量的文本数据，它能够捕捉到语言的模式、语义和逻辑。\n",
    "   - 在应用中，LLM可以用于各种任务，包括文本生成、文本理解、情感分析、问答系统等。"
   ]
  },
  {
   "cell_type": "markdown",
   "id": "50a2fbaa",
   "metadata": {},
   "source": [
    "## DIY 智能体的工具箱"
   ]
  },
  {
   "cell_type": "markdown",
   "id": "b84def0b",
   "metadata": {},
   "source": [
    "当ChatGPT于2023年3月份横空出世时，人们惊讶地发现它拥有广泛的知识和能力，然而，令人遗憾的是，它的计算能力很差，数学能力不及中国的小学生（GPT-4等高级模型有所改观）。\n",
    "\n",
    "为了解决这个问题，我们可以动手DIY，为我们的智能体增加处理数学问题的能力。我们可以采取以下步骤："
   ]
  },
  {
   "cell_type": "markdown",
   "id": "4c3c9c92",
   "metadata": {},
   "source": [
    "定义三个工具函数：加法、乘法、指数运算。"
   ]
  },
  {
   "cell_type": "code",
   "execution_count": null,
   "id": "d9702245",
   "metadata": {},
   "outputs": [],
   "source": [
    "from langchain_core.tools import tool\n",
    "\n",
    "\n",
    "@tool\n",
    "def add(first_int: int, second_int: int) -> int:\n",
    "    \"Add two integers.\"\n",
    "    return first_int + second_int\n",
    "\n",
    "@tool\n",
    "def multiply(first_int: int, second_int: int) -> int:\n",
    "    \"\"\"Multiply two integers together.\"\"\"\n",
    "    return first_int * second_int\n",
    "\n",
    "@tool\n",
    "def exponentiate(base: int, exponent: int) -> int:\n",
    "    \"Exponentiate the base to the exponent power.\"\n",
    "    return base**exponent\n",
    "\n",
    "\n",
    "tools = [add,multiply,exponentiate]"
   ]
  },
  {
   "cell_type": "markdown",
   "id": "dc2ec2ce",
   "metadata": {},
   "source": [
    "导入需要使用的模块。"
   ]
  },
  {
   "cell_type": "code",
   "execution_count": null,
   "id": "7fef429c",
   "metadata": {},
   "outputs": [],
   "source": [
    "from langchain import hub\n",
    "from langchain.agents import AgentExecutor, create_openai_tools_agent\n",
    "from langchain_openai import ChatOpenAI"
   ]
  },
  {
   "cell_type": "markdown",
   "id": "80a0f232",
   "metadata": {},
   "source": [
    "从现有hub中拉取`openai-tools-agent`提示词模板。"
   ]
  },
  {
   "cell_type": "code",
   "execution_count": null,
   "id": "cc72f721",
   "metadata": {},
   "outputs": [],
   "source": [
    "# Get the prompt to use - you can modify this!\n",
    "prompt = hub.pull(\"hwchase17/openai-tools-agent\")\n",
    "prompt.pretty_print()"
   ]
  },
  {
   "cell_type": "markdown",
   "id": "6edd7d61",
   "metadata": {},
   "source": [
    "使用create_openai_tools_agent方法创建一个智能体。"
   ]
  },
  {
   "cell_type": "code",
   "execution_count": null,
   "id": "474c5a1c",
   "metadata": {},
   "outputs": [],
   "source": [
    "# Choose the LLM that will drive the agent\n",
    "# Only certain models support this\n",
    "model = ChatOpenAI(model=\"gpt-3.5-turbo-1106\", temperature=0)\n",
    "# Construct the OpenAI Tools agent\n",
    "agent = create_openai_tools_agent(model, tools, prompt)"
   ]
  },
  {
   "cell_type": "markdown",
   "id": "07def475",
   "metadata": {},
   "source": [
    "创建一个Agent执行器，将工具和agent实例传递给执行器环境。"
   ]
  },
  {
   "cell_type": "code",
   "execution_count": null,
   "id": "44ad2de3",
   "metadata": {},
   "outputs": [],
   "source": [
    "# Create an agent executor by passing in the agent and tools\n",
    "agent_executor = AgentExecutor(agent=agent, tools=tools, verbose=True)"
   ]
  },
  {
   "cell_type": "markdown",
   "id": "605eb898",
   "metadata": {},
   "source": [
    "唤起智能体，查看智能体如何选择工具，回答不同类型的问题。"
   ]
  },
  {
   "cell_type": "code",
   "execution_count": null,
   "id": "bb376770",
   "metadata": {},
   "outputs": [],
   "source": [
    "agent_executor.invoke(\n",
    "    {\n",
    "        \"input\": \"将3的五次方与十二和三的和相乘，然后对整个结果进行平方。\"\n",
    "    }\n",
    ")"
   ]
  },
  {
   "cell_type": "markdown",
   "id": "f15a6453",
   "metadata": {},
   "source": [
    "**注意**:\n",
    "\n",
    "智能体的回答有时候是错误的，或者网络问题导致错误，如果碰到这样的情况，请重新唤醒一下智能体。\n",
    "\n",
    "如果执行从hub拉取提示词模板的代码出现错误，请重新启动该笔记本，如果你本地环境有多个python版本，请尝试更换python的版本。这种错误是由于python版本所致，另外还可以升级本地的python版本解决。"
   ]
  }
 ],
 "metadata": {
  "kernelspec": {
   "display_name": "Python 3 (ipykernel)",
   "language": "python",
   "name": "python3"
  },
  "language_info": {
   "codemirror_mode": {
    "name": "ipython",
    "version": 3
   },
   "file_extension": ".py",
   "mimetype": "text/x-python",
   "name": "python",
   "nbconvert_exporter": "python",
   "pygments_lexer": "ipython3",
   "version": "3.11.7"
  }
 },
 "nbformat": 4,
 "nbformat_minor": 5
}
